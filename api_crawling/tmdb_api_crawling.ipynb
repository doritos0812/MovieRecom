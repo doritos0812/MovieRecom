{
  "nbformat": 4,
  "nbformat_minor": 0,
  "metadata": {
    "colab": {
      "provenance": []
    },
    "kernelspec": {
      "name": "python3",
      "display_name": "Python 3"
    },
    "language_info": {
      "name": "python"
    }
  },
  "cells": [
    {
      "cell_type": "markdown",
      "source": [
        "# 구글 드라이브 마운트"
      ],
      "metadata": {
        "id": "4AI9vAC68N5I"
      }
    },
    {
      "cell_type": "code",
      "execution_count": 1,
      "metadata": {
        "colab": {
          "base_uri": "https://localhost:8080/"
        },
        "id": "-QBKEnSY5CBU",
        "outputId": "a6c5bfd5-4f85-4471-ee70-1402b5e1bdb4"
      },
      "outputs": [
        {
          "output_type": "stream",
          "name": "stdout",
          "text": [
            "Mounted at /content/drive\n"
          ]
        }
      ],
      "source": [
        "from google.colab import drive\n",
        "\n",
        "# 구글 드라이브와 연결\n",
        "drive.mount('/content/drive')\n",
        "\n",
        "mount_directory = \"drive/MyDrive\""
      ]
    },
    {
      "cell_type": "markdown",
      "source": [
        "# 기본 라이브러리 import"
      ],
      "metadata": {
        "id": "rat4ISNR8SgS"
      }
    },
    {
      "cell_type": "code",
      "source": [
        "import pandas as pd\n",
        "import numpy as np\n",
        "import requests\n",
        "import re\n",
        "import os\n",
        "\n",
        "from tqdm import tqdm"
      ],
      "metadata": {
        "id": "m5JiDXHg5MZV"
      },
      "execution_count": 2,
      "outputs": []
    },
    {
      "cell_type": "markdown",
      "source": [
        "# 데이터셋 불러오기(MovieLens)"
      ],
      "metadata": {
        "id": "rHNd6IiS8V8p"
      }
    },
    {
      "cell_type": "code",
      "source": [
        "# 데이터 크기 설정 ex)latest-small, 32m, ...\n",
        "dataset_volume = \"32m\"\n",
        "\n",
        "# CSV 데이터 로드\n",
        "df_ratings = pd.read_csv(f\"{mount_directory}/ml-{dataset_volume}/ratings.csv\")\n",
        "df_movies = pd.read_csv(f\"{mount_directory}/ml-{dataset_volume}/movies.csv\")\n",
        "df_tags = pd.read_csv(f\"{mount_directory}/ml-{dataset_volume}/tags.csv\")"
      ],
      "metadata": {
        "id": "8MHtPtCx5Mbz"
      },
      "execution_count": 3,
      "outputs": []
    },
    {
      "cell_type": "code",
      "source": [
        "# Dataset의 User, Movie 수 확인\n",
        "n_users = df_ratings.userId.unique().shape[0]\n",
        "n_items = df_ratings.movieId.unique().shape[0]\n",
        "print(\"num users: {}, num items:{}\".format(n_users, n_items))"
      ],
      "metadata": {
        "colab": {
          "base_uri": "https://localhost:8080/"
        },
        "id": "vCklFtXG7YhH",
        "outputId": "38a039a0-18b7-4606-d661-745674ecab39"
      },
      "execution_count": 4,
      "outputs": [
        {
          "output_type": "stream",
          "name": "stdout",
          "text": [
            "num users: 200948, num items:84432\n"
          ]
        }
      ]
    },
    {
      "cell_type": "code",
      "source": [
        "df_movies"
      ],
      "metadata": {
        "colab": {
          "base_uri": "https://localhost:8080/",
          "height": 424
        },
        "id": "6Ox5cGtw751b",
        "outputId": "1d4df6dc-9041-4a02-c7da-bfe312a5f8d2"
      },
      "execution_count": 5,
      "outputs": [
        {
          "output_type": "execute_result",
          "data": {
            "text/plain": [
              "       movieId                               title  \\\n",
              "0            1                    Toy Story (1995)   \n",
              "1            2                      Jumanji (1995)   \n",
              "2            3             Grumpier Old Men (1995)   \n",
              "3            4            Waiting to Exhale (1995)   \n",
              "4            5  Father of the Bride Part II (1995)   \n",
              "...        ...                                 ...   \n",
              "87580   292731           The Monroy Affaire (2022)   \n",
              "87581   292737          Shelter in Solitude (2023)   \n",
              "87582   292753                         Orca (2023)   \n",
              "87583   292755              The Angry Breed (1968)   \n",
              "87584   292757           Race to the Summit (2023)   \n",
              "\n",
              "                                            genres  \n",
              "0      Adventure|Animation|Children|Comedy|Fantasy  \n",
              "1                       Adventure|Children|Fantasy  \n",
              "2                                   Comedy|Romance  \n",
              "3                             Comedy|Drama|Romance  \n",
              "4                                           Comedy  \n",
              "...                                            ...  \n",
              "87580                                        Drama  \n",
              "87581                                 Comedy|Drama  \n",
              "87582                                        Drama  \n",
              "87583                                        Drama  \n",
              "87584                 Action|Adventure|Documentary  \n",
              "\n",
              "[87585 rows x 3 columns]"
            ],
            "text/html": [
              "\n",
              "  <div id=\"df-8a88e5f6-12fd-4258-b7ea-1120740c96d5\" class=\"colab-df-container\">\n",
              "    <div>\n",
              "<style scoped>\n",
              "    .dataframe tbody tr th:only-of-type {\n",
              "        vertical-align: middle;\n",
              "    }\n",
              "\n",
              "    .dataframe tbody tr th {\n",
              "        vertical-align: top;\n",
              "    }\n",
              "\n",
              "    .dataframe thead th {\n",
              "        text-align: right;\n",
              "    }\n",
              "</style>\n",
              "<table border=\"1\" class=\"dataframe\">\n",
              "  <thead>\n",
              "    <tr style=\"text-align: right;\">\n",
              "      <th></th>\n",
              "      <th>movieId</th>\n",
              "      <th>title</th>\n",
              "      <th>genres</th>\n",
              "    </tr>\n",
              "  </thead>\n",
              "  <tbody>\n",
              "    <tr>\n",
              "      <th>0</th>\n",
              "      <td>1</td>\n",
              "      <td>Toy Story (1995)</td>\n",
              "      <td>Adventure|Animation|Children|Comedy|Fantasy</td>\n",
              "    </tr>\n",
              "    <tr>\n",
              "      <th>1</th>\n",
              "      <td>2</td>\n",
              "      <td>Jumanji (1995)</td>\n",
              "      <td>Adventure|Children|Fantasy</td>\n",
              "    </tr>\n",
              "    <tr>\n",
              "      <th>2</th>\n",
              "      <td>3</td>\n",
              "      <td>Grumpier Old Men (1995)</td>\n",
              "      <td>Comedy|Romance</td>\n",
              "    </tr>\n",
              "    <tr>\n",
              "      <th>3</th>\n",
              "      <td>4</td>\n",
              "      <td>Waiting to Exhale (1995)</td>\n",
              "      <td>Comedy|Drama|Romance</td>\n",
              "    </tr>\n",
              "    <tr>\n",
              "      <th>4</th>\n",
              "      <td>5</td>\n",
              "      <td>Father of the Bride Part II (1995)</td>\n",
              "      <td>Comedy</td>\n",
              "    </tr>\n",
              "    <tr>\n",
              "      <th>...</th>\n",
              "      <td>...</td>\n",
              "      <td>...</td>\n",
              "      <td>...</td>\n",
              "    </tr>\n",
              "    <tr>\n",
              "      <th>87580</th>\n",
              "      <td>292731</td>\n",
              "      <td>The Monroy Affaire (2022)</td>\n",
              "      <td>Drama</td>\n",
              "    </tr>\n",
              "    <tr>\n",
              "      <th>87581</th>\n",
              "      <td>292737</td>\n",
              "      <td>Shelter in Solitude (2023)</td>\n",
              "      <td>Comedy|Drama</td>\n",
              "    </tr>\n",
              "    <tr>\n",
              "      <th>87582</th>\n",
              "      <td>292753</td>\n",
              "      <td>Orca (2023)</td>\n",
              "      <td>Drama</td>\n",
              "    </tr>\n",
              "    <tr>\n",
              "      <th>87583</th>\n",
              "      <td>292755</td>\n",
              "      <td>The Angry Breed (1968)</td>\n",
              "      <td>Drama</td>\n",
              "    </tr>\n",
              "    <tr>\n",
              "      <th>87584</th>\n",
              "      <td>292757</td>\n",
              "      <td>Race to the Summit (2023)</td>\n",
              "      <td>Action|Adventure|Documentary</td>\n",
              "    </tr>\n",
              "  </tbody>\n",
              "</table>\n",
              "<p>87585 rows × 3 columns</p>\n",
              "</div>\n",
              "    <div class=\"colab-df-buttons\">\n",
              "\n",
              "  <div class=\"colab-df-container\">\n",
              "    <button class=\"colab-df-convert\" onclick=\"convertToInteractive('df-8a88e5f6-12fd-4258-b7ea-1120740c96d5')\"\n",
              "            title=\"Convert this dataframe to an interactive table.\"\n",
              "            style=\"display:none;\">\n",
              "\n",
              "  <svg xmlns=\"http://www.w3.org/2000/svg\" height=\"24px\" viewBox=\"0 -960 960 960\">\n",
              "    <path d=\"M120-120v-720h720v720H120Zm60-500h600v-160H180v160Zm220 220h160v-160H400v160Zm0 220h160v-160H400v160ZM180-400h160v-160H180v160Zm440 0h160v-160H620v160ZM180-180h160v-160H180v160Zm440 0h160v-160H620v160Z\"/>\n",
              "  </svg>\n",
              "    </button>\n",
              "\n",
              "  <style>\n",
              "    .colab-df-container {\n",
              "      display:flex;\n",
              "      gap: 12px;\n",
              "    }\n",
              "\n",
              "    .colab-df-convert {\n",
              "      background-color: #E8F0FE;\n",
              "      border: none;\n",
              "      border-radius: 50%;\n",
              "      cursor: pointer;\n",
              "      display: none;\n",
              "      fill: #1967D2;\n",
              "      height: 32px;\n",
              "      padding: 0 0 0 0;\n",
              "      width: 32px;\n",
              "    }\n",
              "\n",
              "    .colab-df-convert:hover {\n",
              "      background-color: #E2EBFA;\n",
              "      box-shadow: 0px 1px 2px rgba(60, 64, 67, 0.3), 0px 1px 3px 1px rgba(60, 64, 67, 0.15);\n",
              "      fill: #174EA6;\n",
              "    }\n",
              "\n",
              "    .colab-df-buttons div {\n",
              "      margin-bottom: 4px;\n",
              "    }\n",
              "\n",
              "    [theme=dark] .colab-df-convert {\n",
              "      background-color: #3B4455;\n",
              "      fill: #D2E3FC;\n",
              "    }\n",
              "\n",
              "    [theme=dark] .colab-df-convert:hover {\n",
              "      background-color: #434B5C;\n",
              "      box-shadow: 0px 1px 3px 1px rgba(0, 0, 0, 0.15);\n",
              "      filter: drop-shadow(0px 1px 2px rgba(0, 0, 0, 0.3));\n",
              "      fill: #FFFFFF;\n",
              "    }\n",
              "  </style>\n",
              "\n",
              "    <script>\n",
              "      const buttonEl =\n",
              "        document.querySelector('#df-8a88e5f6-12fd-4258-b7ea-1120740c96d5 button.colab-df-convert');\n",
              "      buttonEl.style.display =\n",
              "        google.colab.kernel.accessAllowed ? 'block' : 'none';\n",
              "\n",
              "      async function convertToInteractive(key) {\n",
              "        const element = document.querySelector('#df-8a88e5f6-12fd-4258-b7ea-1120740c96d5');\n",
              "        const dataTable =\n",
              "          await google.colab.kernel.invokeFunction('convertToInteractive',\n",
              "                                                    [key], {});\n",
              "        if (!dataTable) return;\n",
              "\n",
              "        const docLinkHtml = 'Like what you see? Visit the ' +\n",
              "          '<a target=\"_blank\" href=https://colab.research.google.com/notebooks/data_table.ipynb>data table notebook</a>'\n",
              "          + ' to learn more about interactive tables.';\n",
              "        element.innerHTML = '';\n",
              "        dataTable['output_type'] = 'display_data';\n",
              "        await google.colab.output.renderOutput(dataTable, element);\n",
              "        const docLink = document.createElement('div');\n",
              "        docLink.innerHTML = docLinkHtml;\n",
              "        element.appendChild(docLink);\n",
              "      }\n",
              "    </script>\n",
              "  </div>\n",
              "\n",
              "\n",
              "<div id=\"df-1d25b6f0-3e98-4797-b52d-f566e7975571\">\n",
              "  <button class=\"colab-df-quickchart\" onclick=\"quickchart('df-1d25b6f0-3e98-4797-b52d-f566e7975571')\"\n",
              "            title=\"Suggest charts\"\n",
              "            style=\"display:none;\">\n",
              "\n",
              "<svg xmlns=\"http://www.w3.org/2000/svg\" height=\"24px\"viewBox=\"0 0 24 24\"\n",
              "     width=\"24px\">\n",
              "    <g>\n",
              "        <path d=\"M19 3H5c-1.1 0-2 .9-2 2v14c0 1.1.9 2 2 2h14c1.1 0 2-.9 2-2V5c0-1.1-.9-2-2-2zM9 17H7v-7h2v7zm4 0h-2V7h2v10zm4 0h-2v-4h2v4z\"/>\n",
              "    </g>\n",
              "</svg>\n",
              "  </button>\n",
              "\n",
              "<style>\n",
              "  .colab-df-quickchart {\n",
              "      --bg-color: #E8F0FE;\n",
              "      --fill-color: #1967D2;\n",
              "      --hover-bg-color: #E2EBFA;\n",
              "      --hover-fill-color: #174EA6;\n",
              "      --disabled-fill-color: #AAA;\n",
              "      --disabled-bg-color: #DDD;\n",
              "  }\n",
              "\n",
              "  [theme=dark] .colab-df-quickchart {\n",
              "      --bg-color: #3B4455;\n",
              "      --fill-color: #D2E3FC;\n",
              "      --hover-bg-color: #434B5C;\n",
              "      --hover-fill-color: #FFFFFF;\n",
              "      --disabled-bg-color: #3B4455;\n",
              "      --disabled-fill-color: #666;\n",
              "  }\n",
              "\n",
              "  .colab-df-quickchart {\n",
              "    background-color: var(--bg-color);\n",
              "    border: none;\n",
              "    border-radius: 50%;\n",
              "    cursor: pointer;\n",
              "    display: none;\n",
              "    fill: var(--fill-color);\n",
              "    height: 32px;\n",
              "    padding: 0;\n",
              "    width: 32px;\n",
              "  }\n",
              "\n",
              "  .colab-df-quickchart:hover {\n",
              "    background-color: var(--hover-bg-color);\n",
              "    box-shadow: 0 1px 2px rgba(60, 64, 67, 0.3), 0 1px 3px 1px rgba(60, 64, 67, 0.15);\n",
              "    fill: var(--button-hover-fill-color);\n",
              "  }\n",
              "\n",
              "  .colab-df-quickchart-complete:disabled,\n",
              "  .colab-df-quickchart-complete:disabled:hover {\n",
              "    background-color: var(--disabled-bg-color);\n",
              "    fill: var(--disabled-fill-color);\n",
              "    box-shadow: none;\n",
              "  }\n",
              "\n",
              "  .colab-df-spinner {\n",
              "    border: 2px solid var(--fill-color);\n",
              "    border-color: transparent;\n",
              "    border-bottom-color: var(--fill-color);\n",
              "    animation:\n",
              "      spin 1s steps(1) infinite;\n",
              "  }\n",
              "\n",
              "  @keyframes spin {\n",
              "    0% {\n",
              "      border-color: transparent;\n",
              "      border-bottom-color: var(--fill-color);\n",
              "      border-left-color: var(--fill-color);\n",
              "    }\n",
              "    20% {\n",
              "      border-color: transparent;\n",
              "      border-left-color: var(--fill-color);\n",
              "      border-top-color: var(--fill-color);\n",
              "    }\n",
              "    30% {\n",
              "      border-color: transparent;\n",
              "      border-left-color: var(--fill-color);\n",
              "      border-top-color: var(--fill-color);\n",
              "      border-right-color: var(--fill-color);\n",
              "    }\n",
              "    40% {\n",
              "      border-color: transparent;\n",
              "      border-right-color: var(--fill-color);\n",
              "      border-top-color: var(--fill-color);\n",
              "    }\n",
              "    60% {\n",
              "      border-color: transparent;\n",
              "      border-right-color: var(--fill-color);\n",
              "    }\n",
              "    80% {\n",
              "      border-color: transparent;\n",
              "      border-right-color: var(--fill-color);\n",
              "      border-bottom-color: var(--fill-color);\n",
              "    }\n",
              "    90% {\n",
              "      border-color: transparent;\n",
              "      border-bottom-color: var(--fill-color);\n",
              "    }\n",
              "  }\n",
              "</style>\n",
              "\n",
              "  <script>\n",
              "    async function quickchart(key) {\n",
              "      const quickchartButtonEl =\n",
              "        document.querySelector('#' + key + ' button');\n",
              "      quickchartButtonEl.disabled = true;  // To prevent multiple clicks.\n",
              "      quickchartButtonEl.classList.add('colab-df-spinner');\n",
              "      try {\n",
              "        const charts = await google.colab.kernel.invokeFunction(\n",
              "            'suggestCharts', [key], {});\n",
              "      } catch (error) {\n",
              "        console.error('Error during call to suggestCharts:', error);\n",
              "      }\n",
              "      quickchartButtonEl.classList.remove('colab-df-spinner');\n",
              "      quickchartButtonEl.classList.add('colab-df-quickchart-complete');\n",
              "    }\n",
              "    (() => {\n",
              "      let quickchartButtonEl =\n",
              "        document.querySelector('#df-1d25b6f0-3e98-4797-b52d-f566e7975571 button');\n",
              "      quickchartButtonEl.style.display =\n",
              "        google.colab.kernel.accessAllowed ? 'block' : 'none';\n",
              "    })();\n",
              "  </script>\n",
              "</div>\n",
              "\n",
              "  <div id=\"id_02cf67da-b3a5-4637-9f07-5862ab1cbdaa\">\n",
              "    <style>\n",
              "      .colab-df-generate {\n",
              "        background-color: #E8F0FE;\n",
              "        border: none;\n",
              "        border-radius: 50%;\n",
              "        cursor: pointer;\n",
              "        display: none;\n",
              "        fill: #1967D2;\n",
              "        height: 32px;\n",
              "        padding: 0 0 0 0;\n",
              "        width: 32px;\n",
              "      }\n",
              "\n",
              "      .colab-df-generate:hover {\n",
              "        background-color: #E2EBFA;\n",
              "        box-shadow: 0px 1px 2px rgba(60, 64, 67, 0.3), 0px 1px 3px 1px rgba(60, 64, 67, 0.15);\n",
              "        fill: #174EA6;\n",
              "      }\n",
              "\n",
              "      [theme=dark] .colab-df-generate {\n",
              "        background-color: #3B4455;\n",
              "        fill: #D2E3FC;\n",
              "      }\n",
              "\n",
              "      [theme=dark] .colab-df-generate:hover {\n",
              "        background-color: #434B5C;\n",
              "        box-shadow: 0px 1px 3px 1px rgba(0, 0, 0, 0.15);\n",
              "        filter: drop-shadow(0px 1px 2px rgba(0, 0, 0, 0.3));\n",
              "        fill: #FFFFFF;\n",
              "      }\n",
              "    </style>\n",
              "    <button class=\"colab-df-generate\" onclick=\"generateWithVariable('df_movies')\"\n",
              "            title=\"Generate code using this dataframe.\"\n",
              "            style=\"display:none;\">\n",
              "\n",
              "  <svg xmlns=\"http://www.w3.org/2000/svg\" height=\"24px\"viewBox=\"0 0 24 24\"\n",
              "       width=\"24px\">\n",
              "    <path d=\"M7,19H8.4L18.45,9,17,7.55,7,17.6ZM5,21V16.75L18.45,3.32a2,2,0,0,1,2.83,0l1.4,1.43a1.91,1.91,0,0,1,.58,1.4,1.91,1.91,0,0,1-.58,1.4L9.25,21ZM18.45,9,17,7.55Zm-12,3A5.31,5.31,0,0,0,4.9,8.1,5.31,5.31,0,0,0,1,6.5,5.31,5.31,0,0,0,4.9,4.9,5.31,5.31,0,0,0,6.5,1,5.31,5.31,0,0,0,8.1,4.9,5.31,5.31,0,0,0,12,6.5,5.46,5.46,0,0,0,6.5,12Z\"/>\n",
              "  </svg>\n",
              "    </button>\n",
              "    <script>\n",
              "      (() => {\n",
              "      const buttonEl =\n",
              "        document.querySelector('#id_02cf67da-b3a5-4637-9f07-5862ab1cbdaa button.colab-df-generate');\n",
              "      buttonEl.style.display =\n",
              "        google.colab.kernel.accessAllowed ? 'block' : 'none';\n",
              "\n",
              "      buttonEl.onclick = () => {\n",
              "        google.colab.notebook.generateWithVariable('df_movies');\n",
              "      }\n",
              "      })();\n",
              "    </script>\n",
              "  </div>\n",
              "\n",
              "    </div>\n",
              "  </div>\n"
            ],
            "application/vnd.google.colaboratory.intrinsic+json": {
              "type": "dataframe",
              "variable_name": "df_movies",
              "summary": "{\n  \"name\": \"df_movies\",\n  \"rows\": 87585,\n  \"fields\": [\n    {\n      \"column\": \"movieId\",\n      \"properties\": {\n        \"dtype\": \"number\",\n        \"std\": 79013,\n        \"min\": 1,\n        \"max\": 292757,\n        \"num_unique_values\": 87585,\n        \"samples\": [\n          120510,\n          212955,\n          193912\n        ],\n        \"semantic_type\": \"\",\n        \"description\": \"\"\n      }\n    },\n    {\n      \"column\": \"title\",\n      \"properties\": {\n        \"dtype\": \"string\",\n        \"num_unique_values\": 87382,\n        \"samples\": [\n          \"The Infernal Caldron (1903)\",\n          \"Jay And Silent Bob's Super Groovy Cartoon Movie (2013)\",\n          \"Scalphunters, The (1968)\"\n        ],\n        \"semantic_type\": \"\",\n        \"description\": \"\"\n      }\n    },\n    {\n      \"column\": \"genres\",\n      \"properties\": {\n        \"dtype\": \"category\",\n        \"num_unique_values\": 1798,\n        \"samples\": [\n          \"Adventure|Crime\",\n          \"Romance|Western\",\n          \"Comedy|Sci-Fi|War\"\n        ],\n        \"semantic_type\": \"\",\n        \"description\": \"\"\n      }\n    }\n  ]\n}"
            }
          },
          "metadata": {},
          "execution_count": 5
        }
      ]
    },
    {
      "cell_type": "markdown",
      "source": [
        "# 데이터 전처리"
      ],
      "metadata": {
        "id": "fnwBIr-H8LSV"
      }
    },
    {
      "cell_type": "code",
      "source": [
        "# ratings의 timestamp 제거\n",
        "df_ratings.drop(['timestamp'], axis=1, inplace=True)"
      ],
      "metadata": {
        "id": "kswZi8ve5Mgi"
      },
      "execution_count": 6,
      "outputs": []
    },
    {
      "cell_type": "code",
      "source": [
        "# 데이터 전처리\n",
        "# user id, movie id의 범위를 (0 ~ 사용자 수 -1), (0 ~ 영화 수 -1) 사이로 맞춰줌.\n",
        "\n",
        "from scipy.sparse import coo_matrix\n",
        "\n",
        "# user_id와 movie_id를 고유 인덱스로 매핑\n",
        "user_dict = {user_id: idx for idx, user_id in enumerate(df_ratings['userId'].unique())}\n",
        "movie_dict = {movie_id: idx for idx, movie_id in enumerate(df_ratings['movieId'].unique())}\n",
        "\n",
        "# user_idx와 movie_idx로 새로운 컬럼 추가\n",
        "df_ratings['user_idx'] = df_ratings['userId'].map(user_dict)\n",
        "df_ratings['movie_idx'] = df_ratings['movieId'].map(movie_dict)\n",
        "\n",
        "# 희소 행렬 생성\n",
        "ratings_sparse = coo_matrix(\n",
        "    (df_ratings['rating'], (df_ratings['user_idx'], df_ratings['movie_idx'])),\n",
        "    shape=(len(user_dict), len(movie_dict))\n",
        ")\n",
        "\n",
        "# 역 매핑 딕셔너리 생성\n",
        "user_idx_to_id = {v: k for k, v in user_dict.items()}\n",
        "movie_idx_to_id = {v: k for k, v in movie_dict.items()}"
      ],
      "metadata": {
        "id": "0CS-bjp6J7WZ"
      },
      "execution_count": 7,
      "outputs": []
    },
    {
      "cell_type": "code",
      "source": [
        "# movie의 index로 부터 title과 genre 값으로 변환을 위한 dict 생성\n",
        "movie_idx_to_name=dict()\n",
        "movie_idx_to_genre=dict()\n",
        "for row in df_movies.itertuples(index=False):\n",
        "    movie_id, movie_name, movie_genre = row\n",
        "    if movie_id not in movie_dict:              # 어떤 영화가 rating data에 없는 경우 skip\n",
        "        continue\n",
        "    movie_idx_to_name[movie_dict[movie_id]] = movie_name\n",
        "    movie_idx_to_genre[movie_dict[movie_id]] = movie_genre\n",
        "\n",
        "df_movies['genres'] = df_movies['genres'].apply(lambda x : x.split('|')).apply(lambda x : \" \".join(x))"
      ],
      "metadata": {
        "id": "4BjE_fQ28hLo"
      },
      "execution_count": 8,
      "outputs": []
    },
    {
      "cell_type": "code",
      "source": [
        "# 마지막 괄호 안의 연도를 추출하는 함수\n",
        "def extract_year(title):\n",
        "    match = re.search(r'\\((\\d{4})\\)$', title)  # 문자열 끝에 있는 괄호 안의 숫자 찾기\n",
        "    return int(match.group(1)) if match else None"
      ],
      "metadata": {
        "id": "w-DhIOx_E2rS"
      },
      "execution_count": 9,
      "outputs": []
    },
    {
      "cell_type": "code",
      "source": [
        "# title에서 제목과 년도를 분리\n",
        "df_movies['year'] = df_movies['title'].apply(extract_year)\n",
        "\n",
        "# title에서 \"( )\"를 포함한 부연 설명 부분 제거\n",
        "df_movies['title'] = df_movies['title'].str.split(\" \\(\").str.get(0)"
      ],
      "metadata": {
        "id": "CwfIoLo25MeR"
      },
      "execution_count": 10,
      "outputs": []
    },
    {
      "cell_type": "code",
      "source": [
        "df_movies"
      ],
      "metadata": {
        "colab": {
          "base_uri": "https://localhost:8080/",
          "height": 424
        },
        "id": "UvXVC6KPCHZx",
        "outputId": "812a0627-6db5-43dd-bef7-a6bfa44a0cf9"
      },
      "execution_count": 11,
      "outputs": [
        {
          "output_type": "execute_result",
          "data": {
            "text/plain": [
              "       movieId                        title  \\\n",
              "0            1                    Toy Story   \n",
              "1            2                      Jumanji   \n",
              "2            3             Grumpier Old Men   \n",
              "3            4            Waiting to Exhale   \n",
              "4            5  Father of the Bride Part II   \n",
              "...        ...                          ...   \n",
              "87580   292731           The Monroy Affaire   \n",
              "87581   292737          Shelter in Solitude   \n",
              "87582   292753                         Orca   \n",
              "87583   292755              The Angry Breed   \n",
              "87584   292757           Race to the Summit   \n",
              "\n",
              "                                            genres    year  \n",
              "0      Adventure Animation Children Comedy Fantasy  1995.0  \n",
              "1                       Adventure Children Fantasy  1995.0  \n",
              "2                                   Comedy Romance  1995.0  \n",
              "3                             Comedy Drama Romance  1995.0  \n",
              "4                                           Comedy  1995.0  \n",
              "...                                            ...     ...  \n",
              "87580                                        Drama  2022.0  \n",
              "87581                                 Comedy Drama  2023.0  \n",
              "87582                                        Drama  2023.0  \n",
              "87583                                        Drama  1968.0  \n",
              "87584                 Action Adventure Documentary  2023.0  \n",
              "\n",
              "[87585 rows x 4 columns]"
            ],
            "text/html": [
              "\n",
              "  <div id=\"df-19324929-dab7-4f02-850f-b692f979e979\" class=\"colab-df-container\">\n",
              "    <div>\n",
              "<style scoped>\n",
              "    .dataframe tbody tr th:only-of-type {\n",
              "        vertical-align: middle;\n",
              "    }\n",
              "\n",
              "    .dataframe tbody tr th {\n",
              "        vertical-align: top;\n",
              "    }\n",
              "\n",
              "    .dataframe thead th {\n",
              "        text-align: right;\n",
              "    }\n",
              "</style>\n",
              "<table border=\"1\" class=\"dataframe\">\n",
              "  <thead>\n",
              "    <tr style=\"text-align: right;\">\n",
              "      <th></th>\n",
              "      <th>movieId</th>\n",
              "      <th>title</th>\n",
              "      <th>genres</th>\n",
              "      <th>year</th>\n",
              "    </tr>\n",
              "  </thead>\n",
              "  <tbody>\n",
              "    <tr>\n",
              "      <th>0</th>\n",
              "      <td>1</td>\n",
              "      <td>Toy Story</td>\n",
              "      <td>Adventure Animation Children Comedy Fantasy</td>\n",
              "      <td>1995.0</td>\n",
              "    </tr>\n",
              "    <tr>\n",
              "      <th>1</th>\n",
              "      <td>2</td>\n",
              "      <td>Jumanji</td>\n",
              "      <td>Adventure Children Fantasy</td>\n",
              "      <td>1995.0</td>\n",
              "    </tr>\n",
              "    <tr>\n",
              "      <th>2</th>\n",
              "      <td>3</td>\n",
              "      <td>Grumpier Old Men</td>\n",
              "      <td>Comedy Romance</td>\n",
              "      <td>1995.0</td>\n",
              "    </tr>\n",
              "    <tr>\n",
              "      <th>3</th>\n",
              "      <td>4</td>\n",
              "      <td>Waiting to Exhale</td>\n",
              "      <td>Comedy Drama Romance</td>\n",
              "      <td>1995.0</td>\n",
              "    </tr>\n",
              "    <tr>\n",
              "      <th>4</th>\n",
              "      <td>5</td>\n",
              "      <td>Father of the Bride Part II</td>\n",
              "      <td>Comedy</td>\n",
              "      <td>1995.0</td>\n",
              "    </tr>\n",
              "    <tr>\n",
              "      <th>...</th>\n",
              "      <td>...</td>\n",
              "      <td>...</td>\n",
              "      <td>...</td>\n",
              "      <td>...</td>\n",
              "    </tr>\n",
              "    <tr>\n",
              "      <th>87580</th>\n",
              "      <td>292731</td>\n",
              "      <td>The Monroy Affaire</td>\n",
              "      <td>Drama</td>\n",
              "      <td>2022.0</td>\n",
              "    </tr>\n",
              "    <tr>\n",
              "      <th>87581</th>\n",
              "      <td>292737</td>\n",
              "      <td>Shelter in Solitude</td>\n",
              "      <td>Comedy Drama</td>\n",
              "      <td>2023.0</td>\n",
              "    </tr>\n",
              "    <tr>\n",
              "      <th>87582</th>\n",
              "      <td>292753</td>\n",
              "      <td>Orca</td>\n",
              "      <td>Drama</td>\n",
              "      <td>2023.0</td>\n",
              "    </tr>\n",
              "    <tr>\n",
              "      <th>87583</th>\n",
              "      <td>292755</td>\n",
              "      <td>The Angry Breed</td>\n",
              "      <td>Drama</td>\n",
              "      <td>1968.0</td>\n",
              "    </tr>\n",
              "    <tr>\n",
              "      <th>87584</th>\n",
              "      <td>292757</td>\n",
              "      <td>Race to the Summit</td>\n",
              "      <td>Action Adventure Documentary</td>\n",
              "      <td>2023.0</td>\n",
              "    </tr>\n",
              "  </tbody>\n",
              "</table>\n",
              "<p>87585 rows × 4 columns</p>\n",
              "</div>\n",
              "    <div class=\"colab-df-buttons\">\n",
              "\n",
              "  <div class=\"colab-df-container\">\n",
              "    <button class=\"colab-df-convert\" onclick=\"convertToInteractive('df-19324929-dab7-4f02-850f-b692f979e979')\"\n",
              "            title=\"Convert this dataframe to an interactive table.\"\n",
              "            style=\"display:none;\">\n",
              "\n",
              "  <svg xmlns=\"http://www.w3.org/2000/svg\" height=\"24px\" viewBox=\"0 -960 960 960\">\n",
              "    <path d=\"M120-120v-720h720v720H120Zm60-500h600v-160H180v160Zm220 220h160v-160H400v160Zm0 220h160v-160H400v160ZM180-400h160v-160H180v160Zm440 0h160v-160H620v160ZM180-180h160v-160H180v160Zm440 0h160v-160H620v160Z\"/>\n",
              "  </svg>\n",
              "    </button>\n",
              "\n",
              "  <style>\n",
              "    .colab-df-container {\n",
              "      display:flex;\n",
              "      gap: 12px;\n",
              "    }\n",
              "\n",
              "    .colab-df-convert {\n",
              "      background-color: #E8F0FE;\n",
              "      border: none;\n",
              "      border-radius: 50%;\n",
              "      cursor: pointer;\n",
              "      display: none;\n",
              "      fill: #1967D2;\n",
              "      height: 32px;\n",
              "      padding: 0 0 0 0;\n",
              "      width: 32px;\n",
              "    }\n",
              "\n",
              "    .colab-df-convert:hover {\n",
              "      background-color: #E2EBFA;\n",
              "      box-shadow: 0px 1px 2px rgba(60, 64, 67, 0.3), 0px 1px 3px 1px rgba(60, 64, 67, 0.15);\n",
              "      fill: #174EA6;\n",
              "    }\n",
              "\n",
              "    .colab-df-buttons div {\n",
              "      margin-bottom: 4px;\n",
              "    }\n",
              "\n",
              "    [theme=dark] .colab-df-convert {\n",
              "      background-color: #3B4455;\n",
              "      fill: #D2E3FC;\n",
              "    }\n",
              "\n",
              "    [theme=dark] .colab-df-convert:hover {\n",
              "      background-color: #434B5C;\n",
              "      box-shadow: 0px 1px 3px 1px rgba(0, 0, 0, 0.15);\n",
              "      filter: drop-shadow(0px 1px 2px rgba(0, 0, 0, 0.3));\n",
              "      fill: #FFFFFF;\n",
              "    }\n",
              "  </style>\n",
              "\n",
              "    <script>\n",
              "      const buttonEl =\n",
              "        document.querySelector('#df-19324929-dab7-4f02-850f-b692f979e979 button.colab-df-convert');\n",
              "      buttonEl.style.display =\n",
              "        google.colab.kernel.accessAllowed ? 'block' : 'none';\n",
              "\n",
              "      async function convertToInteractive(key) {\n",
              "        const element = document.querySelector('#df-19324929-dab7-4f02-850f-b692f979e979');\n",
              "        const dataTable =\n",
              "          await google.colab.kernel.invokeFunction('convertToInteractive',\n",
              "                                                    [key], {});\n",
              "        if (!dataTable) return;\n",
              "\n",
              "        const docLinkHtml = 'Like what you see? Visit the ' +\n",
              "          '<a target=\"_blank\" href=https://colab.research.google.com/notebooks/data_table.ipynb>data table notebook</a>'\n",
              "          + ' to learn more about interactive tables.';\n",
              "        element.innerHTML = '';\n",
              "        dataTable['output_type'] = 'display_data';\n",
              "        await google.colab.output.renderOutput(dataTable, element);\n",
              "        const docLink = document.createElement('div');\n",
              "        docLink.innerHTML = docLinkHtml;\n",
              "        element.appendChild(docLink);\n",
              "      }\n",
              "    </script>\n",
              "  </div>\n",
              "\n",
              "\n",
              "<div id=\"df-8dd94109-28aa-43fe-8356-2d2386cc72d9\">\n",
              "  <button class=\"colab-df-quickchart\" onclick=\"quickchart('df-8dd94109-28aa-43fe-8356-2d2386cc72d9')\"\n",
              "            title=\"Suggest charts\"\n",
              "            style=\"display:none;\">\n",
              "\n",
              "<svg xmlns=\"http://www.w3.org/2000/svg\" height=\"24px\"viewBox=\"0 0 24 24\"\n",
              "     width=\"24px\">\n",
              "    <g>\n",
              "        <path d=\"M19 3H5c-1.1 0-2 .9-2 2v14c0 1.1.9 2 2 2h14c1.1 0 2-.9 2-2V5c0-1.1-.9-2-2-2zM9 17H7v-7h2v7zm4 0h-2V7h2v10zm4 0h-2v-4h2v4z\"/>\n",
              "    </g>\n",
              "</svg>\n",
              "  </button>\n",
              "\n",
              "<style>\n",
              "  .colab-df-quickchart {\n",
              "      --bg-color: #E8F0FE;\n",
              "      --fill-color: #1967D2;\n",
              "      --hover-bg-color: #E2EBFA;\n",
              "      --hover-fill-color: #174EA6;\n",
              "      --disabled-fill-color: #AAA;\n",
              "      --disabled-bg-color: #DDD;\n",
              "  }\n",
              "\n",
              "  [theme=dark] .colab-df-quickchart {\n",
              "      --bg-color: #3B4455;\n",
              "      --fill-color: #D2E3FC;\n",
              "      --hover-bg-color: #434B5C;\n",
              "      --hover-fill-color: #FFFFFF;\n",
              "      --disabled-bg-color: #3B4455;\n",
              "      --disabled-fill-color: #666;\n",
              "  }\n",
              "\n",
              "  .colab-df-quickchart {\n",
              "    background-color: var(--bg-color);\n",
              "    border: none;\n",
              "    border-radius: 50%;\n",
              "    cursor: pointer;\n",
              "    display: none;\n",
              "    fill: var(--fill-color);\n",
              "    height: 32px;\n",
              "    padding: 0;\n",
              "    width: 32px;\n",
              "  }\n",
              "\n",
              "  .colab-df-quickchart:hover {\n",
              "    background-color: var(--hover-bg-color);\n",
              "    box-shadow: 0 1px 2px rgba(60, 64, 67, 0.3), 0 1px 3px 1px rgba(60, 64, 67, 0.15);\n",
              "    fill: var(--button-hover-fill-color);\n",
              "  }\n",
              "\n",
              "  .colab-df-quickchart-complete:disabled,\n",
              "  .colab-df-quickchart-complete:disabled:hover {\n",
              "    background-color: var(--disabled-bg-color);\n",
              "    fill: var(--disabled-fill-color);\n",
              "    box-shadow: none;\n",
              "  }\n",
              "\n",
              "  .colab-df-spinner {\n",
              "    border: 2px solid var(--fill-color);\n",
              "    border-color: transparent;\n",
              "    border-bottom-color: var(--fill-color);\n",
              "    animation:\n",
              "      spin 1s steps(1) infinite;\n",
              "  }\n",
              "\n",
              "  @keyframes spin {\n",
              "    0% {\n",
              "      border-color: transparent;\n",
              "      border-bottom-color: var(--fill-color);\n",
              "      border-left-color: var(--fill-color);\n",
              "    }\n",
              "    20% {\n",
              "      border-color: transparent;\n",
              "      border-left-color: var(--fill-color);\n",
              "      border-top-color: var(--fill-color);\n",
              "    }\n",
              "    30% {\n",
              "      border-color: transparent;\n",
              "      border-left-color: var(--fill-color);\n",
              "      border-top-color: var(--fill-color);\n",
              "      border-right-color: var(--fill-color);\n",
              "    }\n",
              "    40% {\n",
              "      border-color: transparent;\n",
              "      border-right-color: var(--fill-color);\n",
              "      border-top-color: var(--fill-color);\n",
              "    }\n",
              "    60% {\n",
              "      border-color: transparent;\n",
              "      border-right-color: var(--fill-color);\n",
              "    }\n",
              "    80% {\n",
              "      border-color: transparent;\n",
              "      border-right-color: var(--fill-color);\n",
              "      border-bottom-color: var(--fill-color);\n",
              "    }\n",
              "    90% {\n",
              "      border-color: transparent;\n",
              "      border-bottom-color: var(--fill-color);\n",
              "    }\n",
              "  }\n",
              "</style>\n",
              "\n",
              "  <script>\n",
              "    async function quickchart(key) {\n",
              "      const quickchartButtonEl =\n",
              "        document.querySelector('#' + key + ' button');\n",
              "      quickchartButtonEl.disabled = true;  // To prevent multiple clicks.\n",
              "      quickchartButtonEl.classList.add('colab-df-spinner');\n",
              "      try {\n",
              "        const charts = await google.colab.kernel.invokeFunction(\n",
              "            'suggestCharts', [key], {});\n",
              "      } catch (error) {\n",
              "        console.error('Error during call to suggestCharts:', error);\n",
              "      }\n",
              "      quickchartButtonEl.classList.remove('colab-df-spinner');\n",
              "      quickchartButtonEl.classList.add('colab-df-quickchart-complete');\n",
              "    }\n",
              "    (() => {\n",
              "      let quickchartButtonEl =\n",
              "        document.querySelector('#df-8dd94109-28aa-43fe-8356-2d2386cc72d9 button');\n",
              "      quickchartButtonEl.style.display =\n",
              "        google.colab.kernel.accessAllowed ? 'block' : 'none';\n",
              "    })();\n",
              "  </script>\n",
              "</div>\n",
              "\n",
              "  <div id=\"id_df7cf989-6318-4af3-9056-0c91e2f754c4\">\n",
              "    <style>\n",
              "      .colab-df-generate {\n",
              "        background-color: #E8F0FE;\n",
              "        border: none;\n",
              "        border-radius: 50%;\n",
              "        cursor: pointer;\n",
              "        display: none;\n",
              "        fill: #1967D2;\n",
              "        height: 32px;\n",
              "        padding: 0 0 0 0;\n",
              "        width: 32px;\n",
              "      }\n",
              "\n",
              "      .colab-df-generate:hover {\n",
              "        background-color: #E2EBFA;\n",
              "        box-shadow: 0px 1px 2px rgba(60, 64, 67, 0.3), 0px 1px 3px 1px rgba(60, 64, 67, 0.15);\n",
              "        fill: #174EA6;\n",
              "      }\n",
              "\n",
              "      [theme=dark] .colab-df-generate {\n",
              "        background-color: #3B4455;\n",
              "        fill: #D2E3FC;\n",
              "      }\n",
              "\n",
              "      [theme=dark] .colab-df-generate:hover {\n",
              "        background-color: #434B5C;\n",
              "        box-shadow: 0px 1px 3px 1px rgba(0, 0, 0, 0.15);\n",
              "        filter: drop-shadow(0px 1px 2px rgba(0, 0, 0, 0.3));\n",
              "        fill: #FFFFFF;\n",
              "      }\n",
              "    </style>\n",
              "    <button class=\"colab-df-generate\" onclick=\"generateWithVariable('df_movies')\"\n",
              "            title=\"Generate code using this dataframe.\"\n",
              "            style=\"display:none;\">\n",
              "\n",
              "  <svg xmlns=\"http://www.w3.org/2000/svg\" height=\"24px\"viewBox=\"0 0 24 24\"\n",
              "       width=\"24px\">\n",
              "    <path d=\"M7,19H8.4L18.45,9,17,7.55,7,17.6ZM5,21V16.75L18.45,3.32a2,2,0,0,1,2.83,0l1.4,1.43a1.91,1.91,0,0,1,.58,1.4,1.91,1.91,0,0,1-.58,1.4L9.25,21ZM18.45,9,17,7.55Zm-12,3A5.31,5.31,0,0,0,4.9,8.1,5.31,5.31,0,0,0,1,6.5,5.31,5.31,0,0,0,4.9,4.9,5.31,5.31,0,0,0,6.5,1,5.31,5.31,0,0,0,8.1,4.9,5.31,5.31,0,0,0,12,6.5,5.46,5.46,0,0,0,6.5,12Z\"/>\n",
              "  </svg>\n",
              "    </button>\n",
              "    <script>\n",
              "      (() => {\n",
              "      const buttonEl =\n",
              "        document.querySelector('#id_df7cf989-6318-4af3-9056-0c91e2f754c4 button.colab-df-generate');\n",
              "      buttonEl.style.display =\n",
              "        google.colab.kernel.accessAllowed ? 'block' : 'none';\n",
              "\n",
              "      buttonEl.onclick = () => {\n",
              "        google.colab.notebook.generateWithVariable('df_movies');\n",
              "      }\n",
              "      })();\n",
              "    </script>\n",
              "  </div>\n",
              "\n",
              "    </div>\n",
              "  </div>\n"
            ],
            "application/vnd.google.colaboratory.intrinsic+json": {
              "type": "dataframe",
              "variable_name": "df_movies",
              "summary": "{\n  \"name\": \"df_movies\",\n  \"rows\": 87585,\n  \"fields\": [\n    {\n      \"column\": \"movieId\",\n      \"properties\": {\n        \"dtype\": \"number\",\n        \"std\": 79013,\n        \"min\": 1,\n        \"max\": 292757,\n        \"num_unique_values\": 87585,\n        \"samples\": [\n          120510,\n          212955,\n          193912\n        ],\n        \"semantic_type\": \"\",\n        \"description\": \"\"\n      }\n    },\n    {\n      \"column\": \"title\",\n      \"properties\": {\n        \"dtype\": \"string\",\n        \"num_unique_values\": 80485,\n        \"samples\": [\n          \"A Quiet Outpost\",\n          \"The New Neighbor\",\n          \"Pauline & Paulette\"\n        ],\n        \"semantic_type\": \"\",\n        \"description\": \"\"\n      }\n    },\n    {\n      \"column\": \"genres\",\n      \"properties\": {\n        \"dtype\": \"category\",\n        \"num_unique_values\": 1798,\n        \"samples\": [\n          \"Adventure Crime\",\n          \"Romance Western\",\n          \"Comedy Sci-Fi War\"\n        ],\n        \"semantic_type\": \"\",\n        \"description\": \"\"\n      }\n    },\n    {\n      \"column\": \"year\",\n      \"properties\": {\n        \"dtype\": \"number\",\n        \"std\": 26.019942836098146,\n        \"min\": 1874.0,\n        \"max\": 2023.0,\n        \"num_unique_values\": 142,\n        \"samples\": [\n          1907.0,\n          1973.0,\n          1918.0\n        ],\n        \"semantic_type\": \"\",\n        \"description\": \"\"\n      }\n    }\n  ]\n}"
            }
          },
          "metadata": {},
          "execution_count": 11
        }
      ]
    },
    {
      "cell_type": "markdown",
      "source": [
        "# TMDB api를 통한 웹크롤링\n",
        "\n",
        "감독, 배우 3명의 정보를 TMDB에 대한 api 요청을 통해 크롤링하여 Dataframe에 저장\n",
        "\n",
        "이를 위해선 TMDB 홈페이지에 회원가입 및 api key를 할당 받아야 한다.\n",
        "\n",
        "https://www.themoviedb.org/settings/api"
      ],
      "metadata": {
        "id": "GN1yvh_e-qSr"
      }
    },
    {
      "cell_type": "code",
      "source": [
        "# TMDb API 키 설정\n",
        "API_KEY = \"f2e3dc4096954042cfd1c618f01883ce\"\n",
        "BASE_URL = \"https://api.themoviedb.org/3\""
      ],
      "metadata": {
        "id": "EFTGrv5E9e6W"
      },
      "execution_count": 12,
      "outputs": []
    },
    {
      "cell_type": "code",
      "source": [
        "# 영화 제목으로 검색하여 감독과 배우 정보를 가져오는 함수\n",
        "def get_movie_credits(title, year):\n",
        "    # 1. 영화 ID 검색\n",
        "    search_url = f\"{BASE_URL}/search/movie\"\n",
        "    params = {\"api_key\": API_KEY, \"query\": title}\n",
        "    if not np.isnan(year): # year 값이 없으면 title로만 요청\n",
        "        params[\"year\"] = int(year)\n",
        "\n",
        "    response = requests.get(search_url, params=params)\n",
        "    if response.status_code != 200 or not response.json()['results']:\n",
        "        return None, None  # 데이터가 없으면 None 반환\n",
        "\n",
        "    movie_id = response.json()['results'][0]['id']\n",
        "\n",
        "    # 2. 영화 크레딧(감독/배우) 가져오기\n",
        "    credits_url = f\"{BASE_URL}/movie/{movie_id}/credits\"\n",
        "    credits_response = requests.get(credits_url, params={\"api_key\": API_KEY})\n",
        "    if credits_response.status_code != 200:\n",
        "        return None, None\n",
        "\n",
        "    credits = credits_response.json()\n",
        "\n",
        "    # 감독 정보 추출\n",
        "    director = next((person['name'].replace(\" \", \"\") for person in credits['crew'] if person['job'] == 'Director'), None)\n",
        "\n",
        "    # 배우 정보 추출 (상위 3명)\n",
        "    actors = \" \".join(person['name'].replace(\" \", \"\") for person in credits['cast'][:3])\n",
        "\n",
        "    return director, actors"
      ],
      "metadata": {
        "id": "3SQbPj-e_N6J"
      },
      "execution_count": 13,
      "outputs": []
    },
    {
      "cell_type": "code",
      "source": [
        "# 체크포인트 파일 경로 설정\n",
        "save_folder = 'movies_processed_data'\n",
        "save_file_name = f'movies_checkpoint.csv'\n",
        "\n",
        "checkpoint_file = f\"{mount_directory}/{save_folder}/{save_file_name}\"\n",
        "\n",
        "# 폴더 경로 생성\n",
        "full_save_path = f\"{mount_directory}/{save_folder}\"\n",
        "\n",
        "# 폴더가 없는 경우 생성\n",
        "if not os.path.exists(full_save_path):\n",
        "    os.makedirs(full_save_path)\n",
        "    print(f\"폴더를 생성했습니다: {full_save_path}\")\n",
        "\n",
        "# 체크포인트 데이터 로드\n",
        "if os.path.exists(checkpoint_file):\n",
        "    print(f\"체크포인트 파일 로드 중: {checkpoint_file}\")\n",
        "    df_movies = pd.read_csv(checkpoint_file)\n",
        "    print(\"체크포인트에서 이어서 작업을 진행합니다.\")\n",
        "else:\n",
        "    print(\"새로운 작업을 시작합니다.\")\n",
        "    # df_movies 초기화: 원본 DataFrame을 로드하세요.\n",
        "    # 예: df_movies = pd.read_csv('/path/to/original/movies.csv')\n",
        "\n",
        "    # 'director'와 'actors' 열이 없으면 추가\n",
        "    if 'director' not in df_movies.columns:\n",
        "        df_movies['director'] = None\n",
        "    if 'actors' not in df_movies.columns:\n",
        "        df_movies['actors'] = None\n",
        "\n",
        "        # 'check' 열 추가: 크롤링이 완료된 영화에는 'done' 값을 설정\n",
        "    if 'check' not in df_movies.columns:\n",
        "        df_movies['check'] = None"
      ],
      "metadata": {
        "colab": {
          "base_uri": "https://localhost:8080/"
        },
        "id": "ZrgbghmT_N8b",
        "outputId": "626c1651-fac1-4aa5-8f53-0e3a9674010f"
      },
      "execution_count": 14,
      "outputs": [
        {
          "output_type": "stream",
          "name": "stdout",
          "text": [
            "체크포인트 파일 로드 중: drive/MyDrive/movies_processed_data/movies_checkpoint.csv\n",
            "체크포인트에서 이어서 작업을 진행합니다.\n"
          ]
        }
      ]
    },
    {
      "cell_type": "code",
      "source": [
        "# 크롤링 작업\n",
        "batch_size = 1000\n",
        "total_batches = (len(df_movies) + batch_size - 1) // batch_size  # 정확히 1000개 단위로 분할\n",
        "\n",
        "for batch_num in range(total_batches):\n",
        "    start_idx = batch_num * batch_size\n",
        "    end_idx = min((batch_num + 1) * batch_size, len(df_movies))\n",
        "\n",
        "    # 처리해야 할 데이터 필터링: 'check'가 None인 데이터만 처리\n",
        "    batch_to_process = df_movies[start_idx:end_idx][df_movies['check'].isna()]\n",
        "\n",
        "    if batch_to_process.empty:\n",
        "        print(f\"Batch {batch_num + 1}/{total_batches} 스킵 (이미 처리됨)\")\n",
        "        continue\n",
        "\n",
        "    print(f\"Batch {batch_num + 1}/{total_batches} 진행 중 ({start_idx} ~ {end_idx - 1})\")\n",
        "\n",
        "    for idx, row in tqdm(batch_to_process.iterrows(), total=batch_to_process.shape[0]):\n",
        "        try:\n",
        "            # 감독, 배우 정보 크롤링\n",
        "            director, actor_list = get_movie_credits(row['title'], row['year'])\n",
        "            df_movies.at[idx, 'director'] = director\n",
        "            df_movies.at[idx, 'actors'] = actor_list\n",
        "            df_movies.at[idx, 'check'] = 'done'  # 크롤링 완료된 항목은 'done'으로 표시\n",
        "        except Exception as e:\n",
        "            print(f\"오류 발생 (index={idx}): {e}\")\n",
        "            df_movies.at[idx, 'check'] = 'error'  # 오류가 발생하면 'error'로 표시\n",
        "\n",
        "    # 체크포인트 저장\n",
        "    df_movies.to_csv(checkpoint_file, index=False, encoding='utf-8')\n",
        "    print(f\"Batch {batch_num + 1} 완료: 체크포인트 저장됨 ({checkpoint_file})\")\n",
        "\n",
        "print(\"모든 작업 완료!\")"
      ],
      "metadata": {
        "colab": {
          "base_uri": "https://localhost:8080/"
        },
        "id": "8aaqcREnNixi",
        "outputId": "2389fe17-45d4-4c3c-c926-a54b1ef8484d"
      },
      "execution_count": 15,
      "outputs": [
        {
          "output_type": "stream",
          "name": "stderr",
          "text": [
            "<ipython-input-15-20f28d74b8d5>:10: UserWarning: Boolean Series key will be reindexed to match DataFrame index.\n",
            "  batch_to_process = df_movies[start_idx:end_idx][df_movies['check'].isna()]\n",
            "<ipython-input-15-20f28d74b8d5>:10: UserWarning: Boolean Series key will be reindexed to match DataFrame index.\n",
            "  batch_to_process = df_movies[start_idx:end_idx][df_movies['check'].isna()]\n",
            "<ipython-input-15-20f28d74b8d5>:10: UserWarning: Boolean Series key will be reindexed to match DataFrame index.\n",
            "  batch_to_process = df_movies[start_idx:end_idx][df_movies['check'].isna()]\n",
            "<ipython-input-15-20f28d74b8d5>:10: UserWarning: Boolean Series key will be reindexed to match DataFrame index.\n",
            "  batch_to_process = df_movies[start_idx:end_idx][df_movies['check'].isna()]\n",
            "<ipython-input-15-20f28d74b8d5>:10: UserWarning: Boolean Series key will be reindexed to match DataFrame index.\n",
            "  batch_to_process = df_movies[start_idx:end_idx][df_movies['check'].isna()]\n",
            "<ipython-input-15-20f28d74b8d5>:10: UserWarning: Boolean Series key will be reindexed to match DataFrame index.\n",
            "  batch_to_process = df_movies[start_idx:end_idx][df_movies['check'].isna()]\n",
            "<ipython-input-15-20f28d74b8d5>:10: UserWarning: Boolean Series key will be reindexed to match DataFrame index.\n",
            "  batch_to_process = df_movies[start_idx:end_idx][df_movies['check'].isna()]\n",
            "<ipython-input-15-20f28d74b8d5>:10: UserWarning: Boolean Series key will be reindexed to match DataFrame index.\n",
            "  batch_to_process = df_movies[start_idx:end_idx][df_movies['check'].isna()]\n",
            "<ipython-input-15-20f28d74b8d5>:10: UserWarning: Boolean Series key will be reindexed to match DataFrame index.\n",
            "  batch_to_process = df_movies[start_idx:end_idx][df_movies['check'].isna()]\n",
            "<ipython-input-15-20f28d74b8d5>:10: UserWarning: Boolean Series key will be reindexed to match DataFrame index.\n",
            "  batch_to_process = df_movies[start_idx:end_idx][df_movies['check'].isna()]\n",
            "<ipython-input-15-20f28d74b8d5>:10: UserWarning: Boolean Series key will be reindexed to match DataFrame index.\n",
            "  batch_to_process = df_movies[start_idx:end_idx][df_movies['check'].isna()]\n",
            "<ipython-input-15-20f28d74b8d5>:10: UserWarning: Boolean Series key will be reindexed to match DataFrame index.\n",
            "  batch_to_process = df_movies[start_idx:end_idx][df_movies['check'].isna()]\n",
            "<ipython-input-15-20f28d74b8d5>:10: UserWarning: Boolean Series key will be reindexed to match DataFrame index.\n",
            "  batch_to_process = df_movies[start_idx:end_idx][df_movies['check'].isna()]\n",
            "<ipython-input-15-20f28d74b8d5>:10: UserWarning: Boolean Series key will be reindexed to match DataFrame index.\n",
            "  batch_to_process = df_movies[start_idx:end_idx][df_movies['check'].isna()]\n",
            "<ipython-input-15-20f28d74b8d5>:10: UserWarning: Boolean Series key will be reindexed to match DataFrame index.\n",
            "  batch_to_process = df_movies[start_idx:end_idx][df_movies['check'].isna()]\n",
            "<ipython-input-15-20f28d74b8d5>:10: UserWarning: Boolean Series key will be reindexed to match DataFrame index.\n",
            "  batch_to_process = df_movies[start_idx:end_idx][df_movies['check'].isna()]\n",
            "<ipython-input-15-20f28d74b8d5>:10: UserWarning: Boolean Series key will be reindexed to match DataFrame index.\n",
            "  batch_to_process = df_movies[start_idx:end_idx][df_movies['check'].isna()]\n",
            "<ipython-input-15-20f28d74b8d5>:10: UserWarning: Boolean Series key will be reindexed to match DataFrame index.\n",
            "  batch_to_process = df_movies[start_idx:end_idx][df_movies['check'].isna()]\n",
            "<ipython-input-15-20f28d74b8d5>:10: UserWarning: Boolean Series key will be reindexed to match DataFrame index.\n",
            "  batch_to_process = df_movies[start_idx:end_idx][df_movies['check'].isna()]\n",
            "<ipython-input-15-20f28d74b8d5>:10: UserWarning: Boolean Series key will be reindexed to match DataFrame index.\n",
            "  batch_to_process = df_movies[start_idx:end_idx][df_movies['check'].isna()]\n",
            "<ipython-input-15-20f28d74b8d5>:10: UserWarning: Boolean Series key will be reindexed to match DataFrame index.\n",
            "  batch_to_process = df_movies[start_idx:end_idx][df_movies['check'].isna()]\n",
            "<ipython-input-15-20f28d74b8d5>:10: UserWarning: Boolean Series key will be reindexed to match DataFrame index.\n",
            "  batch_to_process = df_movies[start_idx:end_idx][df_movies['check'].isna()]\n",
            "<ipython-input-15-20f28d74b8d5>:10: UserWarning: Boolean Series key will be reindexed to match DataFrame index.\n",
            "  batch_to_process = df_movies[start_idx:end_idx][df_movies['check'].isna()]\n",
            "<ipython-input-15-20f28d74b8d5>:10: UserWarning: Boolean Series key will be reindexed to match DataFrame index.\n",
            "  batch_to_process = df_movies[start_idx:end_idx][df_movies['check'].isna()]\n",
            "<ipython-input-15-20f28d74b8d5>:10: UserWarning: Boolean Series key will be reindexed to match DataFrame index.\n",
            "  batch_to_process = df_movies[start_idx:end_idx][df_movies['check'].isna()]\n",
            "<ipython-input-15-20f28d74b8d5>:10: UserWarning: Boolean Series key will be reindexed to match DataFrame index.\n",
            "  batch_to_process = df_movies[start_idx:end_idx][df_movies['check'].isna()]\n"
          ]
        },
        {
          "output_type": "stream",
          "name": "stdout",
          "text": [
            "Batch 1/88 스킵 (이미 처리됨)\n",
            "Batch 2/88 스킵 (이미 처리됨)\n",
            "Batch 3/88 스킵 (이미 처리됨)\n",
            "Batch 4/88 스킵 (이미 처리됨)\n",
            "Batch 5/88 스킵 (이미 처리됨)\n",
            "Batch 6/88 스킵 (이미 처리됨)\n",
            "Batch 7/88 스킵 (이미 처리됨)\n",
            "Batch 8/88 스킵 (이미 처리됨)\n",
            "Batch 9/88 스킵 (이미 처리됨)\n",
            "Batch 10/88 스킵 (이미 처리됨)\n",
            "Batch 11/88 스킵 (이미 처리됨)\n",
            "Batch 12/88 스킵 (이미 처리됨)\n",
            "Batch 13/88 스킵 (이미 처리됨)\n",
            "Batch 14/88 스킵 (이미 처리됨)\n",
            "Batch 15/88 스킵 (이미 처리됨)\n",
            "Batch 16/88 스킵 (이미 처리됨)\n",
            "Batch 17/88 스킵 (이미 처리됨)\n",
            "Batch 18/88 스킵 (이미 처리됨)\n",
            "Batch 19/88 스킵 (이미 처리됨)\n",
            "Batch 20/88 스킵 (이미 처리됨)\n",
            "Batch 21/88 스킵 (이미 처리됨)\n",
            "Batch 22/88 스킵 (이미 처리됨)\n",
            "Batch 23/88 스킵 (이미 처리됨)\n",
            "Batch 24/88 스킵 (이미 처리됨)\n",
            "Batch 25/88 스킵 (이미 처리됨)\n",
            "Batch 26/88 진행 중 (25000 ~ 25999)\n"
          ]
        },
        {
          "output_type": "stream",
          "name": "stderr",
          "text": [
            "100%|██████████| 1000/1000 [05:06<00:00,  3.26it/s]\n",
            "<ipython-input-15-20f28d74b8d5>:10: UserWarning: Boolean Series key will be reindexed to match DataFrame index.\n",
            "  batch_to_process = df_movies[start_idx:end_idx][df_movies['check'].isna()]\n"
          ]
        },
        {
          "output_type": "stream",
          "name": "stdout",
          "text": [
            "Batch 26 완료: 체크포인트 저장됨 (drive/MyDrive/movies_processed_data/movies_checkpoint.csv)\n",
            "Batch 27/88 진행 중 (26000 ~ 26999)\n"
          ]
        },
        {
          "output_type": "stream",
          "name": "stderr",
          "text": [
            "100%|██████████| 1000/1000 [05:01<00:00,  3.32it/s]\n",
            "<ipython-input-15-20f28d74b8d5>:10: UserWarning: Boolean Series key will be reindexed to match DataFrame index.\n",
            "  batch_to_process = df_movies[start_idx:end_idx][df_movies['check'].isna()]\n"
          ]
        },
        {
          "output_type": "stream",
          "name": "stdout",
          "text": [
            "Batch 27 완료: 체크포인트 저장됨 (drive/MyDrive/movies_processed_data/movies_checkpoint.csv)\n",
            "Batch 28/88 진행 중 (27000 ~ 27999)\n"
          ]
        },
        {
          "output_type": "stream",
          "name": "stderr",
          "text": [
            "100%|██████████| 1000/1000 [05:02<00:00,  3.31it/s]\n",
            "<ipython-input-15-20f28d74b8d5>:10: UserWarning: Boolean Series key will be reindexed to match DataFrame index.\n",
            "  batch_to_process = df_movies[start_idx:end_idx][df_movies['check'].isna()]\n"
          ]
        },
        {
          "output_type": "stream",
          "name": "stdout",
          "text": [
            "Batch 28 완료: 체크포인트 저장됨 (drive/MyDrive/movies_processed_data/movies_checkpoint.csv)\n",
            "Batch 29/88 진행 중 (28000 ~ 28999)\n"
          ]
        },
        {
          "output_type": "stream",
          "name": "stderr",
          "text": [
            "100%|██████████| 1000/1000 [04:56<00:00,  3.37it/s]\n",
            "<ipython-input-15-20f28d74b8d5>:10: UserWarning: Boolean Series key will be reindexed to match DataFrame index.\n",
            "  batch_to_process = df_movies[start_idx:end_idx][df_movies['check'].isna()]\n"
          ]
        },
        {
          "output_type": "stream",
          "name": "stdout",
          "text": [
            "Batch 29 완료: 체크포인트 저장됨 (drive/MyDrive/movies_processed_data/movies_checkpoint.csv)\n",
            "Batch 30/88 진행 중 (29000 ~ 29999)\n"
          ]
        },
        {
          "output_type": "stream",
          "name": "stderr",
          "text": [
            "100%|██████████| 1000/1000 [04:56<00:00,  3.37it/s]\n",
            "<ipython-input-15-20f28d74b8d5>:10: UserWarning: Boolean Series key will be reindexed to match DataFrame index.\n",
            "  batch_to_process = df_movies[start_idx:end_idx][df_movies['check'].isna()]\n"
          ]
        },
        {
          "output_type": "stream",
          "name": "stdout",
          "text": [
            "Batch 30 완료: 체크포인트 저장됨 (drive/MyDrive/movies_processed_data/movies_checkpoint.csv)\n",
            "Batch 31/88 진행 중 (30000 ~ 30999)\n"
          ]
        },
        {
          "output_type": "stream",
          "name": "stderr",
          "text": [
            "100%|██████████| 1000/1000 [05:10<00:00,  3.22it/s]\n",
            "<ipython-input-15-20f28d74b8d5>:10: UserWarning: Boolean Series key will be reindexed to match DataFrame index.\n",
            "  batch_to_process = df_movies[start_idx:end_idx][df_movies['check'].isna()]\n"
          ]
        },
        {
          "output_type": "stream",
          "name": "stdout",
          "text": [
            "Batch 31 완료: 체크포인트 저장됨 (drive/MyDrive/movies_processed_data/movies_checkpoint.csv)\n",
            "Batch 32/88 진행 중 (31000 ~ 31999)\n"
          ]
        },
        {
          "output_type": "stream",
          "name": "stderr",
          "text": [
            "100%|██████████| 1000/1000 [04:56<00:00,  3.38it/s]\n",
            "<ipython-input-15-20f28d74b8d5>:10: UserWarning: Boolean Series key will be reindexed to match DataFrame index.\n",
            "  batch_to_process = df_movies[start_idx:end_idx][df_movies['check'].isna()]\n"
          ]
        },
        {
          "output_type": "stream",
          "name": "stdout",
          "text": [
            "Batch 32 완료: 체크포인트 저장됨 (drive/MyDrive/movies_processed_data/movies_checkpoint.csv)\n",
            "Batch 33/88 진행 중 (32000 ~ 32999)\n"
          ]
        },
        {
          "output_type": "stream",
          "name": "stderr",
          "text": [
            "100%|██████████| 1000/1000 [05:00<00:00,  3.33it/s]\n",
            "<ipython-input-15-20f28d74b8d5>:10: UserWarning: Boolean Series key will be reindexed to match DataFrame index.\n",
            "  batch_to_process = df_movies[start_idx:end_idx][df_movies['check'].isna()]\n"
          ]
        },
        {
          "output_type": "stream",
          "name": "stdout",
          "text": [
            "Batch 33 완료: 체크포인트 저장됨 (drive/MyDrive/movies_processed_data/movies_checkpoint.csv)\n",
            "Batch 34/88 진행 중 (33000 ~ 33999)\n"
          ]
        },
        {
          "output_type": "stream",
          "name": "stderr",
          "text": [
            "100%|██████████| 1000/1000 [04:56<00:00,  3.37it/s]\n",
            "<ipython-input-15-20f28d74b8d5>:10: UserWarning: Boolean Series key will be reindexed to match DataFrame index.\n",
            "  batch_to_process = df_movies[start_idx:end_idx][df_movies['check'].isna()]\n"
          ]
        },
        {
          "output_type": "stream",
          "name": "stdout",
          "text": [
            "Batch 34 완료: 체크포인트 저장됨 (drive/MyDrive/movies_processed_data/movies_checkpoint.csv)\n",
            "Batch 35/88 진행 중 (34000 ~ 34999)\n"
          ]
        },
        {
          "output_type": "stream",
          "name": "stderr",
          "text": [
            "100%|██████████| 1000/1000 [04:56<00:00,  3.37it/s]\n",
            "<ipython-input-15-20f28d74b8d5>:10: UserWarning: Boolean Series key will be reindexed to match DataFrame index.\n",
            "  batch_to_process = df_movies[start_idx:end_idx][df_movies['check'].isna()]\n"
          ]
        },
        {
          "output_type": "stream",
          "name": "stdout",
          "text": [
            "Batch 35 완료: 체크포인트 저장됨 (drive/MyDrive/movies_processed_data/movies_checkpoint.csv)\n",
            "Batch 36/88 진행 중 (35000 ~ 35999)\n"
          ]
        },
        {
          "output_type": "stream",
          "name": "stderr",
          "text": [
            "100%|██████████| 1000/1000 [04:55<00:00,  3.39it/s]\n",
            "<ipython-input-15-20f28d74b8d5>:10: UserWarning: Boolean Series key will be reindexed to match DataFrame index.\n",
            "  batch_to_process = df_movies[start_idx:end_idx][df_movies['check'].isna()]\n"
          ]
        },
        {
          "output_type": "stream",
          "name": "stdout",
          "text": [
            "Batch 36 완료: 체크포인트 저장됨 (drive/MyDrive/movies_processed_data/movies_checkpoint.csv)\n",
            "Batch 37/88 진행 중 (36000 ~ 36999)\n"
          ]
        },
        {
          "output_type": "stream",
          "name": "stderr",
          "text": [
            "100%|██████████| 1000/1000 [04:57<00:00,  3.36it/s]\n",
            "<ipython-input-15-20f28d74b8d5>:10: UserWarning: Boolean Series key will be reindexed to match DataFrame index.\n",
            "  batch_to_process = df_movies[start_idx:end_idx][df_movies['check'].isna()]\n"
          ]
        },
        {
          "output_type": "stream",
          "name": "stdout",
          "text": [
            "Batch 37 완료: 체크포인트 저장됨 (drive/MyDrive/movies_processed_data/movies_checkpoint.csv)\n",
            "Batch 38/88 진행 중 (37000 ~ 37999)\n"
          ]
        },
        {
          "output_type": "stream",
          "name": "stderr",
          "text": [
            "100%|██████████| 1000/1000 [04:56<00:00,  3.37it/s]\n",
            "<ipython-input-15-20f28d74b8d5>:10: UserWarning: Boolean Series key will be reindexed to match DataFrame index.\n",
            "  batch_to_process = df_movies[start_idx:end_idx][df_movies['check'].isna()]\n"
          ]
        },
        {
          "output_type": "stream",
          "name": "stdout",
          "text": [
            "Batch 38 완료: 체크포인트 저장됨 (drive/MyDrive/movies_processed_data/movies_checkpoint.csv)\n",
            "Batch 39/88 진행 중 (38000 ~ 38999)\n"
          ]
        },
        {
          "output_type": "stream",
          "name": "stderr",
          "text": [
            "100%|██████████| 1000/1000 [05:11<00:00,  3.21it/s]\n",
            "<ipython-input-15-20f28d74b8d5>:10: UserWarning: Boolean Series key will be reindexed to match DataFrame index.\n",
            "  batch_to_process = df_movies[start_idx:end_idx][df_movies['check'].isna()]\n"
          ]
        },
        {
          "output_type": "stream",
          "name": "stdout",
          "text": [
            "Batch 39 완료: 체크포인트 저장됨 (drive/MyDrive/movies_processed_data/movies_checkpoint.csv)\n",
            "Batch 40/88 진행 중 (39000 ~ 39999)\n"
          ]
        },
        {
          "output_type": "stream",
          "name": "stderr",
          "text": [
            "100%|██████████| 1000/1000 [05:04<00:00,  3.28it/s]\n",
            "<ipython-input-15-20f28d74b8d5>:10: UserWarning: Boolean Series key will be reindexed to match DataFrame index.\n",
            "  batch_to_process = df_movies[start_idx:end_idx][df_movies['check'].isna()]\n"
          ]
        },
        {
          "output_type": "stream",
          "name": "stdout",
          "text": [
            "Batch 40 완료: 체크포인트 저장됨 (drive/MyDrive/movies_processed_data/movies_checkpoint.csv)\n",
            "Batch 41/88 진행 중 (40000 ~ 40999)\n"
          ]
        },
        {
          "output_type": "stream",
          "name": "stderr",
          "text": [
            "100%|██████████| 1000/1000 [05:08<00:00,  3.24it/s]\n",
            "<ipython-input-15-20f28d74b8d5>:10: UserWarning: Boolean Series key will be reindexed to match DataFrame index.\n",
            "  batch_to_process = df_movies[start_idx:end_idx][df_movies['check'].isna()]\n"
          ]
        },
        {
          "output_type": "stream",
          "name": "stdout",
          "text": [
            "Batch 41 완료: 체크포인트 저장됨 (drive/MyDrive/movies_processed_data/movies_checkpoint.csv)\n",
            "Batch 42/88 진행 중 (41000 ~ 41999)\n"
          ]
        },
        {
          "output_type": "stream",
          "name": "stderr",
          "text": [
            "100%|██████████| 1000/1000 [05:13<00:00,  3.19it/s]\n",
            "<ipython-input-15-20f28d74b8d5>:10: UserWarning: Boolean Series key will be reindexed to match DataFrame index.\n",
            "  batch_to_process = df_movies[start_idx:end_idx][df_movies['check'].isna()]\n"
          ]
        },
        {
          "output_type": "stream",
          "name": "stdout",
          "text": [
            "Batch 42 완료: 체크포인트 저장됨 (drive/MyDrive/movies_processed_data/movies_checkpoint.csv)\n",
            "Batch 43/88 진행 중 (42000 ~ 42999)\n"
          ]
        },
        {
          "output_type": "stream",
          "name": "stderr",
          "text": [
            "100%|██████████| 1000/1000 [05:15<00:00,  3.17it/s]\n",
            "<ipython-input-15-20f28d74b8d5>:10: UserWarning: Boolean Series key will be reindexed to match DataFrame index.\n",
            "  batch_to_process = df_movies[start_idx:end_idx][df_movies['check'].isna()]\n"
          ]
        },
        {
          "output_type": "stream",
          "name": "stdout",
          "text": [
            "Batch 43 완료: 체크포인트 저장됨 (drive/MyDrive/movies_processed_data/movies_checkpoint.csv)\n",
            "Batch 44/88 진행 중 (43000 ~ 43999)\n"
          ]
        },
        {
          "output_type": "stream",
          "name": "stderr",
          "text": [
            "100%|██████████| 1000/1000 [04:59<00:00,  3.33it/s]\n",
            "<ipython-input-15-20f28d74b8d5>:10: UserWarning: Boolean Series key will be reindexed to match DataFrame index.\n",
            "  batch_to_process = df_movies[start_idx:end_idx][df_movies['check'].isna()]\n"
          ]
        },
        {
          "output_type": "stream",
          "name": "stdout",
          "text": [
            "Batch 44 완료: 체크포인트 저장됨 (drive/MyDrive/movies_processed_data/movies_checkpoint.csv)\n",
            "Batch 45/88 진행 중 (44000 ~ 44999)\n"
          ]
        },
        {
          "output_type": "stream",
          "name": "stderr",
          "text": [
            "100%|██████████| 1000/1000 [04:59<00:00,  3.34it/s]\n",
            "<ipython-input-15-20f28d74b8d5>:10: UserWarning: Boolean Series key will be reindexed to match DataFrame index.\n",
            "  batch_to_process = df_movies[start_idx:end_idx][df_movies['check'].isna()]\n"
          ]
        },
        {
          "output_type": "stream",
          "name": "stdout",
          "text": [
            "Batch 45 완료: 체크포인트 저장됨 (drive/MyDrive/movies_processed_data/movies_checkpoint.csv)\n",
            "Batch 46/88 진행 중 (45000 ~ 45999)\n"
          ]
        },
        {
          "output_type": "stream",
          "name": "stderr",
          "text": [
            "100%|██████████| 1000/1000 [04:59<00:00,  3.34it/s]\n",
            "<ipython-input-15-20f28d74b8d5>:10: UserWarning: Boolean Series key will be reindexed to match DataFrame index.\n",
            "  batch_to_process = df_movies[start_idx:end_idx][df_movies['check'].isna()]\n"
          ]
        },
        {
          "output_type": "stream",
          "name": "stdout",
          "text": [
            "Batch 46 완료: 체크포인트 저장됨 (drive/MyDrive/movies_processed_data/movies_checkpoint.csv)\n",
            "Batch 47/88 진행 중 (46000 ~ 46999)\n"
          ]
        },
        {
          "output_type": "stream",
          "name": "stderr",
          "text": [
            "100%|██████████| 1000/1000 [06:12<00:00,  2.68it/s]\n",
            "<ipython-input-15-20f28d74b8d5>:10: UserWarning: Boolean Series key will be reindexed to match DataFrame index.\n",
            "  batch_to_process = df_movies[start_idx:end_idx][df_movies['check'].isna()]\n"
          ]
        },
        {
          "output_type": "stream",
          "name": "stdout",
          "text": [
            "Batch 47 완료: 체크포인트 저장됨 (drive/MyDrive/movies_processed_data/movies_checkpoint.csv)\n",
            "Batch 48/88 진행 중 (47000 ~ 47999)\n"
          ]
        },
        {
          "output_type": "stream",
          "name": "stderr",
          "text": [
            "100%|██████████| 1000/1000 [05:15<00:00,  3.17it/s]\n",
            "<ipython-input-15-20f28d74b8d5>:10: UserWarning: Boolean Series key will be reindexed to match DataFrame index.\n",
            "  batch_to_process = df_movies[start_idx:end_idx][df_movies['check'].isna()]\n"
          ]
        },
        {
          "output_type": "stream",
          "name": "stdout",
          "text": [
            "Batch 48 완료: 체크포인트 저장됨 (drive/MyDrive/movies_processed_data/movies_checkpoint.csv)\n",
            "Batch 49/88 진행 중 (48000 ~ 48999)\n"
          ]
        },
        {
          "output_type": "stream",
          "name": "stderr",
          "text": [
            "100%|██████████| 1000/1000 [05:02<00:00,  3.31it/s]\n",
            "<ipython-input-15-20f28d74b8d5>:10: UserWarning: Boolean Series key will be reindexed to match DataFrame index.\n",
            "  batch_to_process = df_movies[start_idx:end_idx][df_movies['check'].isna()]\n"
          ]
        },
        {
          "output_type": "stream",
          "name": "stdout",
          "text": [
            "Batch 49 완료: 체크포인트 저장됨 (drive/MyDrive/movies_processed_data/movies_checkpoint.csv)\n",
            "Batch 50/88 진행 중 (49000 ~ 49999)\n"
          ]
        },
        {
          "output_type": "stream",
          "name": "stderr",
          "text": [
            "100%|██████████| 1000/1000 [05:10<00:00,  3.22it/s]\n",
            "<ipython-input-15-20f28d74b8d5>:10: UserWarning: Boolean Series key will be reindexed to match DataFrame index.\n",
            "  batch_to_process = df_movies[start_idx:end_idx][df_movies['check'].isna()]\n"
          ]
        },
        {
          "output_type": "stream",
          "name": "stdout",
          "text": [
            "Batch 50 완료: 체크포인트 저장됨 (drive/MyDrive/movies_processed_data/movies_checkpoint.csv)\n",
            "Batch 51/88 진행 중 (50000 ~ 50999)\n"
          ]
        },
        {
          "output_type": "stream",
          "name": "stderr",
          "text": [
            "100%|██████████| 1000/1000 [05:01<00:00,  3.32it/s]\n",
            "<ipython-input-15-20f28d74b8d5>:10: UserWarning: Boolean Series key will be reindexed to match DataFrame index.\n",
            "  batch_to_process = df_movies[start_idx:end_idx][df_movies['check'].isna()]\n"
          ]
        },
        {
          "output_type": "stream",
          "name": "stdout",
          "text": [
            "Batch 51 완료: 체크포인트 저장됨 (drive/MyDrive/movies_processed_data/movies_checkpoint.csv)\n",
            "Batch 52/88 진행 중 (51000 ~ 51999)\n"
          ]
        },
        {
          "output_type": "stream",
          "name": "stderr",
          "text": [
            "100%|██████████| 1000/1000 [04:53<00:00,  3.41it/s]\n",
            "<ipython-input-15-20f28d74b8d5>:10: UserWarning: Boolean Series key will be reindexed to match DataFrame index.\n",
            "  batch_to_process = df_movies[start_idx:end_idx][df_movies['check'].isna()]\n"
          ]
        },
        {
          "output_type": "stream",
          "name": "stdout",
          "text": [
            "Batch 52 완료: 체크포인트 저장됨 (drive/MyDrive/movies_processed_data/movies_checkpoint.csv)\n",
            "Batch 53/88 진행 중 (52000 ~ 52999)\n"
          ]
        },
        {
          "output_type": "stream",
          "name": "stderr",
          "text": [
            "100%|██████████| 1000/1000 [05:04<00:00,  3.28it/s]\n",
            "<ipython-input-15-20f28d74b8d5>:10: UserWarning: Boolean Series key will be reindexed to match DataFrame index.\n",
            "  batch_to_process = df_movies[start_idx:end_idx][df_movies['check'].isna()]\n"
          ]
        },
        {
          "output_type": "stream",
          "name": "stdout",
          "text": [
            "Batch 53 완료: 체크포인트 저장됨 (drive/MyDrive/movies_processed_data/movies_checkpoint.csv)\n",
            "Batch 54/88 진행 중 (53000 ~ 53999)\n"
          ]
        },
        {
          "output_type": "stream",
          "name": "stderr",
          "text": [
            "100%|██████████| 1000/1000 [05:10<00:00,  3.22it/s]\n",
            "<ipython-input-15-20f28d74b8d5>:10: UserWarning: Boolean Series key will be reindexed to match DataFrame index.\n",
            "  batch_to_process = df_movies[start_idx:end_idx][df_movies['check'].isna()]\n"
          ]
        },
        {
          "output_type": "stream",
          "name": "stdout",
          "text": [
            "Batch 54 완료: 체크포인트 저장됨 (drive/MyDrive/movies_processed_data/movies_checkpoint.csv)\n",
            "Batch 55/88 진행 중 (54000 ~ 54999)\n"
          ]
        },
        {
          "output_type": "stream",
          "name": "stderr",
          "text": [
            "100%|██████████| 1000/1000 [05:14<00:00,  3.17it/s]\n",
            "<ipython-input-15-20f28d74b8d5>:10: UserWarning: Boolean Series key will be reindexed to match DataFrame index.\n",
            "  batch_to_process = df_movies[start_idx:end_idx][df_movies['check'].isna()]\n"
          ]
        },
        {
          "output_type": "stream",
          "name": "stdout",
          "text": [
            "Batch 55 완료: 체크포인트 저장됨 (drive/MyDrive/movies_processed_data/movies_checkpoint.csv)\n",
            "Batch 56/88 진행 중 (55000 ~ 55999)\n"
          ]
        },
        {
          "output_type": "stream",
          "name": "stderr",
          "text": [
            "100%|██████████| 1000/1000 [05:11<00:00,  3.21it/s]\n",
            "<ipython-input-15-20f28d74b8d5>:10: UserWarning: Boolean Series key will be reindexed to match DataFrame index.\n",
            "  batch_to_process = df_movies[start_idx:end_idx][df_movies['check'].isna()]\n"
          ]
        },
        {
          "output_type": "stream",
          "name": "stdout",
          "text": [
            "Batch 56 완료: 체크포인트 저장됨 (drive/MyDrive/movies_processed_data/movies_checkpoint.csv)\n",
            "Batch 57/88 진행 중 (56000 ~ 56999)\n"
          ]
        },
        {
          "output_type": "stream",
          "name": "stderr",
          "text": [
            "100%|██████████| 1000/1000 [04:59<00:00,  3.33it/s]\n",
            "<ipython-input-15-20f28d74b8d5>:10: UserWarning: Boolean Series key will be reindexed to match DataFrame index.\n",
            "  batch_to_process = df_movies[start_idx:end_idx][df_movies['check'].isna()]\n"
          ]
        },
        {
          "output_type": "stream",
          "name": "stdout",
          "text": [
            "Batch 57 완료: 체크포인트 저장됨 (drive/MyDrive/movies_processed_data/movies_checkpoint.csv)\n",
            "Batch 58/88 진행 중 (57000 ~ 57999)\n"
          ]
        },
        {
          "output_type": "stream",
          "name": "stderr",
          "text": [
            "100%|██████████| 1000/1000 [05:01<00:00,  3.32it/s]\n",
            "<ipython-input-15-20f28d74b8d5>:10: UserWarning: Boolean Series key will be reindexed to match DataFrame index.\n",
            "  batch_to_process = df_movies[start_idx:end_idx][df_movies['check'].isna()]\n"
          ]
        },
        {
          "output_type": "stream",
          "name": "stdout",
          "text": [
            "Batch 58 완료: 체크포인트 저장됨 (drive/MyDrive/movies_processed_data/movies_checkpoint.csv)\n",
            "Batch 59/88 진행 중 (58000 ~ 58999)\n"
          ]
        },
        {
          "output_type": "stream",
          "name": "stderr",
          "text": [
            "100%|██████████| 1000/1000 [05:07<00:00,  3.25it/s]\n",
            "<ipython-input-15-20f28d74b8d5>:10: UserWarning: Boolean Series key will be reindexed to match DataFrame index.\n",
            "  batch_to_process = df_movies[start_idx:end_idx][df_movies['check'].isna()]\n"
          ]
        },
        {
          "output_type": "stream",
          "name": "stdout",
          "text": [
            "Batch 59 완료: 체크포인트 저장됨 (drive/MyDrive/movies_processed_data/movies_checkpoint.csv)\n",
            "Batch 60/88 진행 중 (59000 ~ 59999)\n"
          ]
        },
        {
          "output_type": "stream",
          "name": "stderr",
          "text": [
            "100%|██████████| 1000/1000 [05:15<00:00,  3.17it/s]\n",
            "<ipython-input-15-20f28d74b8d5>:10: UserWarning: Boolean Series key will be reindexed to match DataFrame index.\n",
            "  batch_to_process = df_movies[start_idx:end_idx][df_movies['check'].isna()]\n"
          ]
        },
        {
          "output_type": "stream",
          "name": "stdout",
          "text": [
            "Batch 60 완료: 체크포인트 저장됨 (drive/MyDrive/movies_processed_data/movies_checkpoint.csv)\n",
            "Batch 61/88 진행 중 (60000 ~ 60999)\n"
          ]
        },
        {
          "output_type": "stream",
          "name": "stderr",
          "text": [
            "100%|██████████| 1000/1000 [05:25<00:00,  3.07it/s]\n",
            "<ipython-input-15-20f28d74b8d5>:10: UserWarning: Boolean Series key will be reindexed to match DataFrame index.\n",
            "  batch_to_process = df_movies[start_idx:end_idx][df_movies['check'].isna()]\n"
          ]
        },
        {
          "output_type": "stream",
          "name": "stdout",
          "text": [
            "Batch 61 완료: 체크포인트 저장됨 (drive/MyDrive/movies_processed_data/movies_checkpoint.csv)\n",
            "Batch 62/88 진행 중 (61000 ~ 61999)\n"
          ]
        },
        {
          "output_type": "stream",
          "name": "stderr",
          "text": [
            "100%|██████████| 1000/1000 [05:11<00:00,  3.21it/s]\n",
            "<ipython-input-15-20f28d74b8d5>:10: UserWarning: Boolean Series key will be reindexed to match DataFrame index.\n",
            "  batch_to_process = df_movies[start_idx:end_idx][df_movies['check'].isna()]\n"
          ]
        },
        {
          "output_type": "stream",
          "name": "stdout",
          "text": [
            "Batch 62 완료: 체크포인트 저장됨 (drive/MyDrive/movies_processed_data/movies_checkpoint.csv)\n",
            "Batch 63/88 진행 중 (62000 ~ 62999)\n"
          ]
        },
        {
          "output_type": "stream",
          "name": "stderr",
          "text": [
            "100%|██████████| 1000/1000 [04:51<00:00,  3.43it/s]\n",
            "<ipython-input-15-20f28d74b8d5>:10: UserWarning: Boolean Series key will be reindexed to match DataFrame index.\n",
            "  batch_to_process = df_movies[start_idx:end_idx][df_movies['check'].isna()]\n"
          ]
        },
        {
          "output_type": "stream",
          "name": "stdout",
          "text": [
            "Batch 63 완료: 체크포인트 저장됨 (drive/MyDrive/movies_processed_data/movies_checkpoint.csv)\n",
            "Batch 64/88 진행 중 (63000 ~ 63999)\n"
          ]
        },
        {
          "output_type": "stream",
          "name": "stderr",
          "text": [
            "100%|██████████| 1000/1000 [05:10<00:00,  3.22it/s]\n",
            "<ipython-input-15-20f28d74b8d5>:10: UserWarning: Boolean Series key will be reindexed to match DataFrame index.\n",
            "  batch_to_process = df_movies[start_idx:end_idx][df_movies['check'].isna()]\n"
          ]
        },
        {
          "output_type": "stream",
          "name": "stdout",
          "text": [
            "Batch 64 완료: 체크포인트 저장됨 (drive/MyDrive/movies_processed_data/movies_checkpoint.csv)\n",
            "Batch 65/88 진행 중 (64000 ~ 64999)\n"
          ]
        },
        {
          "output_type": "stream",
          "name": "stderr",
          "text": [
            "100%|██████████| 1000/1000 [05:07<00:00,  3.26it/s]\n",
            "<ipython-input-15-20f28d74b8d5>:10: UserWarning: Boolean Series key will be reindexed to match DataFrame index.\n",
            "  batch_to_process = df_movies[start_idx:end_idx][df_movies['check'].isna()]\n"
          ]
        },
        {
          "output_type": "stream",
          "name": "stdout",
          "text": [
            "Batch 65 완료: 체크포인트 저장됨 (drive/MyDrive/movies_processed_data/movies_checkpoint.csv)\n",
            "Batch 66/88 진행 중 (65000 ~ 65999)\n"
          ]
        },
        {
          "output_type": "stream",
          "name": "stderr",
          "text": [
            "100%|██████████| 1000/1000 [05:05<00:00,  3.28it/s]\n",
            "<ipython-input-15-20f28d74b8d5>:10: UserWarning: Boolean Series key will be reindexed to match DataFrame index.\n",
            "  batch_to_process = df_movies[start_idx:end_idx][df_movies['check'].isna()]\n"
          ]
        },
        {
          "output_type": "stream",
          "name": "stdout",
          "text": [
            "Batch 66 완료: 체크포인트 저장됨 (drive/MyDrive/movies_processed_data/movies_checkpoint.csv)\n",
            "Batch 67/88 진행 중 (66000 ~ 66999)\n"
          ]
        },
        {
          "output_type": "stream",
          "name": "stderr",
          "text": [
            "100%|██████████| 1000/1000 [05:18<00:00,  3.14it/s]\n",
            "<ipython-input-15-20f28d74b8d5>:10: UserWarning: Boolean Series key will be reindexed to match DataFrame index.\n",
            "  batch_to_process = df_movies[start_idx:end_idx][df_movies['check'].isna()]\n"
          ]
        },
        {
          "output_type": "stream",
          "name": "stdout",
          "text": [
            "Batch 67 완료: 체크포인트 저장됨 (drive/MyDrive/movies_processed_data/movies_checkpoint.csv)\n",
            "Batch 68/88 진행 중 (67000 ~ 67999)\n"
          ]
        },
        {
          "output_type": "stream",
          "name": "stderr",
          "text": [
            "100%|██████████| 1000/1000 [04:53<00:00,  3.41it/s]\n",
            "<ipython-input-15-20f28d74b8d5>:10: UserWarning: Boolean Series key will be reindexed to match DataFrame index.\n",
            "  batch_to_process = df_movies[start_idx:end_idx][df_movies['check'].isna()]\n"
          ]
        },
        {
          "output_type": "stream",
          "name": "stdout",
          "text": [
            "Batch 68 완료: 체크포인트 저장됨 (drive/MyDrive/movies_processed_data/movies_checkpoint.csv)\n",
            "Batch 69/88 진행 중 (68000 ~ 68999)\n"
          ]
        },
        {
          "output_type": "stream",
          "name": "stderr",
          "text": [
            "100%|██████████| 1000/1000 [05:02<00:00,  3.31it/s]\n",
            "<ipython-input-15-20f28d74b8d5>:10: UserWarning: Boolean Series key will be reindexed to match DataFrame index.\n",
            "  batch_to_process = df_movies[start_idx:end_idx][df_movies['check'].isna()]\n"
          ]
        },
        {
          "output_type": "stream",
          "name": "stdout",
          "text": [
            "Batch 69 완료: 체크포인트 저장됨 (drive/MyDrive/movies_processed_data/movies_checkpoint.csv)\n",
            "Batch 70/88 진행 중 (69000 ~ 69999)\n"
          ]
        },
        {
          "output_type": "stream",
          "name": "stderr",
          "text": [
            "100%|██████████| 1000/1000 [04:52<00:00,  3.42it/s]\n",
            "<ipython-input-15-20f28d74b8d5>:10: UserWarning: Boolean Series key will be reindexed to match DataFrame index.\n",
            "  batch_to_process = df_movies[start_idx:end_idx][df_movies['check'].isna()]\n"
          ]
        },
        {
          "output_type": "stream",
          "name": "stdout",
          "text": [
            "Batch 70 완료: 체크포인트 저장됨 (drive/MyDrive/movies_processed_data/movies_checkpoint.csv)\n",
            "Batch 71/88 진행 중 (70000 ~ 70999)\n"
          ]
        },
        {
          "output_type": "stream",
          "name": "stderr",
          "text": [
            "100%|██████████| 1000/1000 [04:50<00:00,  3.44it/s]\n",
            "<ipython-input-15-20f28d74b8d5>:10: UserWarning: Boolean Series key will be reindexed to match DataFrame index.\n",
            "  batch_to_process = df_movies[start_idx:end_idx][df_movies['check'].isna()]\n"
          ]
        },
        {
          "output_type": "stream",
          "name": "stdout",
          "text": [
            "Batch 71 완료: 체크포인트 저장됨 (drive/MyDrive/movies_processed_data/movies_checkpoint.csv)\n",
            "Batch 72/88 진행 중 (71000 ~ 71999)\n"
          ]
        },
        {
          "output_type": "stream",
          "name": "stderr",
          "text": [
            "100%|██████████| 1000/1000 [05:00<00:00,  3.33it/s]\n",
            "<ipython-input-15-20f28d74b8d5>:10: UserWarning: Boolean Series key will be reindexed to match DataFrame index.\n",
            "  batch_to_process = df_movies[start_idx:end_idx][df_movies['check'].isna()]\n"
          ]
        },
        {
          "output_type": "stream",
          "name": "stdout",
          "text": [
            "Batch 72 완료: 체크포인트 저장됨 (drive/MyDrive/movies_processed_data/movies_checkpoint.csv)\n",
            "Batch 73/88 진행 중 (72000 ~ 72999)\n"
          ]
        },
        {
          "output_type": "stream",
          "name": "stderr",
          "text": [
            "100%|██████████| 1000/1000 [05:01<00:00,  3.32it/s]\n",
            "<ipython-input-15-20f28d74b8d5>:10: UserWarning: Boolean Series key will be reindexed to match DataFrame index.\n",
            "  batch_to_process = df_movies[start_idx:end_idx][df_movies['check'].isna()]\n"
          ]
        },
        {
          "output_type": "stream",
          "name": "stdout",
          "text": [
            "Batch 73 완료: 체크포인트 저장됨 (drive/MyDrive/movies_processed_data/movies_checkpoint.csv)\n",
            "Batch 74/88 진행 중 (73000 ~ 73999)\n"
          ]
        },
        {
          "output_type": "stream",
          "name": "stderr",
          "text": [
            "100%|██████████| 1000/1000 [05:03<00:00,  3.29it/s]\n",
            "<ipython-input-15-20f28d74b8d5>:10: UserWarning: Boolean Series key will be reindexed to match DataFrame index.\n",
            "  batch_to_process = df_movies[start_idx:end_idx][df_movies['check'].isna()]\n"
          ]
        },
        {
          "output_type": "stream",
          "name": "stdout",
          "text": [
            "Batch 74 완료: 체크포인트 저장됨 (drive/MyDrive/movies_processed_data/movies_checkpoint.csv)\n",
            "Batch 75/88 진행 중 (74000 ~ 74999)\n"
          ]
        },
        {
          "output_type": "stream",
          "name": "stderr",
          "text": [
            "100%|██████████| 1000/1000 [05:06<00:00,  3.26it/s]\n",
            "<ipython-input-15-20f28d74b8d5>:10: UserWarning: Boolean Series key will be reindexed to match DataFrame index.\n",
            "  batch_to_process = df_movies[start_idx:end_idx][df_movies['check'].isna()]\n"
          ]
        },
        {
          "output_type": "stream",
          "name": "stdout",
          "text": [
            "Batch 75 완료: 체크포인트 저장됨 (drive/MyDrive/movies_processed_data/movies_checkpoint.csv)\n",
            "Batch 76/88 진행 중 (75000 ~ 75999)\n"
          ]
        },
        {
          "output_type": "stream",
          "name": "stderr",
          "text": [
            "100%|██████████| 1000/1000 [04:58<00:00,  3.35it/s]\n",
            "<ipython-input-15-20f28d74b8d5>:10: UserWarning: Boolean Series key will be reindexed to match DataFrame index.\n",
            "  batch_to_process = df_movies[start_idx:end_idx][df_movies['check'].isna()]\n"
          ]
        },
        {
          "output_type": "stream",
          "name": "stdout",
          "text": [
            "Batch 76 완료: 체크포인트 저장됨 (drive/MyDrive/movies_processed_data/movies_checkpoint.csv)\n",
            "Batch 77/88 진행 중 (76000 ~ 76999)\n"
          ]
        },
        {
          "output_type": "stream",
          "name": "stderr",
          "text": [
            "100%|██████████| 1000/1000 [05:01<00:00,  3.32it/s]\n",
            "<ipython-input-15-20f28d74b8d5>:10: UserWarning: Boolean Series key will be reindexed to match DataFrame index.\n",
            "  batch_to_process = df_movies[start_idx:end_idx][df_movies['check'].isna()]\n"
          ]
        },
        {
          "output_type": "stream",
          "name": "stdout",
          "text": [
            "Batch 77 완료: 체크포인트 저장됨 (drive/MyDrive/movies_processed_data/movies_checkpoint.csv)\n",
            "Batch 78/88 진행 중 (77000 ~ 77999)\n"
          ]
        },
        {
          "output_type": "stream",
          "name": "stderr",
          "text": [
            "100%|██████████| 1000/1000 [05:35<00:00,  2.98it/s]\n",
            "<ipython-input-15-20f28d74b8d5>:10: UserWarning: Boolean Series key will be reindexed to match DataFrame index.\n",
            "  batch_to_process = df_movies[start_idx:end_idx][df_movies['check'].isna()]\n"
          ]
        },
        {
          "output_type": "stream",
          "name": "stdout",
          "text": [
            "Batch 78 완료: 체크포인트 저장됨 (drive/MyDrive/movies_processed_data/movies_checkpoint.csv)\n",
            "Batch 79/88 진행 중 (78000 ~ 78999)\n"
          ]
        },
        {
          "output_type": "stream",
          "name": "stderr",
          "text": [
            "100%|██████████| 1000/1000 [05:16<00:00,  3.16it/s]\n",
            "<ipython-input-15-20f28d74b8d5>:10: UserWarning: Boolean Series key will be reindexed to match DataFrame index.\n",
            "  batch_to_process = df_movies[start_idx:end_idx][df_movies['check'].isna()]\n"
          ]
        },
        {
          "output_type": "stream",
          "name": "stdout",
          "text": [
            "Batch 79 완료: 체크포인트 저장됨 (drive/MyDrive/movies_processed_data/movies_checkpoint.csv)\n",
            "Batch 80/88 진행 중 (79000 ~ 79999)\n"
          ]
        },
        {
          "output_type": "stream",
          "name": "stderr",
          "text": [
            "100%|██████████| 1000/1000 [05:15<00:00,  3.17it/s]\n",
            "<ipython-input-15-20f28d74b8d5>:10: UserWarning: Boolean Series key will be reindexed to match DataFrame index.\n",
            "  batch_to_process = df_movies[start_idx:end_idx][df_movies['check'].isna()]\n"
          ]
        },
        {
          "output_type": "stream",
          "name": "stdout",
          "text": [
            "Batch 80 완료: 체크포인트 저장됨 (drive/MyDrive/movies_processed_data/movies_checkpoint.csv)\n",
            "Batch 81/88 진행 중 (80000 ~ 80999)\n"
          ]
        },
        {
          "output_type": "stream",
          "name": "stderr",
          "text": [
            "100%|██████████| 1000/1000 [05:07<00:00,  3.25it/s]\n",
            "<ipython-input-15-20f28d74b8d5>:10: UserWarning: Boolean Series key will be reindexed to match DataFrame index.\n",
            "  batch_to_process = df_movies[start_idx:end_idx][df_movies['check'].isna()]\n"
          ]
        },
        {
          "output_type": "stream",
          "name": "stdout",
          "text": [
            "Batch 81 완료: 체크포인트 저장됨 (drive/MyDrive/movies_processed_data/movies_checkpoint.csv)\n",
            "Batch 82/88 진행 중 (81000 ~ 81999)\n"
          ]
        },
        {
          "output_type": "stream",
          "name": "stderr",
          "text": [
            "100%|██████████| 1000/1000 [05:32<00:00,  3.01it/s]\n",
            "<ipython-input-15-20f28d74b8d5>:10: UserWarning: Boolean Series key will be reindexed to match DataFrame index.\n",
            "  batch_to_process = df_movies[start_idx:end_idx][df_movies['check'].isna()]\n"
          ]
        },
        {
          "output_type": "stream",
          "name": "stdout",
          "text": [
            "Batch 82 완료: 체크포인트 저장됨 (drive/MyDrive/movies_processed_data/movies_checkpoint.csv)\n",
            "Batch 83/88 진행 중 (82000 ~ 82999)\n"
          ]
        },
        {
          "output_type": "stream",
          "name": "stderr",
          "text": [
            "100%|██████████| 1000/1000 [05:08<00:00,  3.24it/s]\n",
            "<ipython-input-15-20f28d74b8d5>:10: UserWarning: Boolean Series key will be reindexed to match DataFrame index.\n",
            "  batch_to_process = df_movies[start_idx:end_idx][df_movies['check'].isna()]\n"
          ]
        },
        {
          "output_type": "stream",
          "name": "stdout",
          "text": [
            "Batch 83 완료: 체크포인트 저장됨 (drive/MyDrive/movies_processed_data/movies_checkpoint.csv)\n",
            "Batch 84/88 진행 중 (83000 ~ 83999)\n"
          ]
        },
        {
          "output_type": "stream",
          "name": "stderr",
          "text": [
            "100%|██████████| 1000/1000 [05:17<00:00,  3.15it/s]\n",
            "<ipython-input-15-20f28d74b8d5>:10: UserWarning: Boolean Series key will be reindexed to match DataFrame index.\n",
            "  batch_to_process = df_movies[start_idx:end_idx][df_movies['check'].isna()]\n"
          ]
        },
        {
          "output_type": "stream",
          "name": "stdout",
          "text": [
            "Batch 84 완료: 체크포인트 저장됨 (drive/MyDrive/movies_processed_data/movies_checkpoint.csv)\n",
            "Batch 85/88 진행 중 (84000 ~ 84999)\n"
          ]
        },
        {
          "output_type": "stream",
          "name": "stderr",
          "text": [
            "100%|██████████| 1000/1000 [05:06<00:00,  3.26it/s]\n",
            "<ipython-input-15-20f28d74b8d5>:10: UserWarning: Boolean Series key will be reindexed to match DataFrame index.\n",
            "  batch_to_process = df_movies[start_idx:end_idx][df_movies['check'].isna()]\n"
          ]
        },
        {
          "output_type": "stream",
          "name": "stdout",
          "text": [
            "Batch 85 완료: 체크포인트 저장됨 (drive/MyDrive/movies_processed_data/movies_checkpoint.csv)\n",
            "Batch 86/88 진행 중 (85000 ~ 85999)\n"
          ]
        },
        {
          "output_type": "stream",
          "name": "stderr",
          "text": [
            "100%|██████████| 1000/1000 [05:08<00:00,  3.24it/s]\n",
            "<ipython-input-15-20f28d74b8d5>:10: UserWarning: Boolean Series key will be reindexed to match DataFrame index.\n",
            "  batch_to_process = df_movies[start_idx:end_idx][df_movies['check'].isna()]\n"
          ]
        },
        {
          "output_type": "stream",
          "name": "stdout",
          "text": [
            "Batch 86 완료: 체크포인트 저장됨 (drive/MyDrive/movies_processed_data/movies_checkpoint.csv)\n",
            "Batch 87/88 진행 중 (86000 ~ 86999)\n"
          ]
        },
        {
          "output_type": "stream",
          "name": "stderr",
          "text": [
            "100%|██████████| 1000/1000 [05:22<00:00,  3.10it/s]\n",
            "<ipython-input-15-20f28d74b8d5>:10: UserWarning: Boolean Series key will be reindexed to match DataFrame index.\n",
            "  batch_to_process = df_movies[start_idx:end_idx][df_movies['check'].isna()]\n"
          ]
        },
        {
          "output_type": "stream",
          "name": "stdout",
          "text": [
            "Batch 87 완료: 체크포인트 저장됨 (drive/MyDrive/movies_processed_data/movies_checkpoint.csv)\n",
            "Batch 88/88 진행 중 (87000 ~ 87584)\n"
          ]
        },
        {
          "output_type": "stream",
          "name": "stderr",
          "text": [
            "100%|██████████| 585/585 [03:05<00:00,  3.16it/s]\n"
          ]
        },
        {
          "output_type": "stream",
          "name": "stdout",
          "text": [
            "Batch 88 완료: 체크포인트 저장됨 (drive/MyDrive/movies_processed_data/movies_checkpoint.csv)\n",
            "모든 작업 완료!\n"
          ]
        }
      ]
    },
    {
      "cell_type": "code",
      "source": [
        "df_movies.drop(['check'], axis=1, inplace=True)\n",
        "df_movies"
      ],
      "metadata": {
        "id": "2m48a080z7Rg",
        "outputId": "a77044f4-174c-461b-a690-be74a255a16c",
        "colab": {
          "base_uri": "https://localhost:8080/",
          "height": 424
        }
      },
      "execution_count": 18,
      "outputs": [
        {
          "output_type": "execute_result",
          "data": {
            "text/plain": [
              "       movieId                        title  \\\n",
              "0            1                    Toy Story   \n",
              "1            2                      Jumanji   \n",
              "2            3             Grumpier Old Men   \n",
              "3            4            Waiting to Exhale   \n",
              "4            5  Father of the Bride Part II   \n",
              "...        ...                          ...   \n",
              "87580   292731           The Monroy Affaire   \n",
              "87581   292737          Shelter in Solitude   \n",
              "87582   292753                         Orca   \n",
              "87583   292755              The Angry Breed   \n",
              "87584   292757           Race to the Summit   \n",
              "\n",
              "                                            genres    year        director  \\\n",
              "0      Adventure Animation Children Comedy Fantasy  1995.0    JohnLasseter   \n",
              "1                       Adventure Children Fantasy  1995.0     JoeJohnston   \n",
              "2                                   Comedy Romance  1995.0    HowardDeutch   \n",
              "3                             Comedy Drama Romance  1995.0  ForestWhitaker   \n",
              "4                                           Comedy  1995.0    CharlesShyer   \n",
              "...                                            ...     ...             ...   \n",
              "87580                                        Drama  2022.0     JosuéMéndez   \n",
              "87581                                 Comedy Drama  2023.0    VibekeMuasya   \n",
              "87582                                        Drama  2023.0   SaharMosayebi   \n",
              "87583                                        Drama  1968.0    DavidCommons   \n",
              "87584                 Action Adventure Documentary  2023.0      GötzWerner   \n",
              "\n",
              "                                               actors  \n",
              "0                        TomHanks TimAllen DonRickles  \n",
              "1            RobinWilliams KirstenDunst BradleyPierce  \n",
              "2                WalterMatthau JackLemmon Ann-Margret  \n",
              "3          WhitneyHouston AngelaBassett LorettaDevine  \n",
              "4                 SteveMartin DianeKeaton MartinShort  \n",
              "...                                               ...  \n",
              "87580            DamiánAlcázar GrapaPaola MaríaZubiri  \n",
              "87581     SiobhanFallonHogan PeterMacon RobertPatrick  \n",
              "87582  TaranehAlidoosti MahtabKeramati MasoudKaramati  \n",
              "87583        JanSterling JamesMacArthur WilliamWindom  \n",
              "87584                            UeliSteck DaniArnold  \n",
              "\n",
              "[87585 rows x 6 columns]"
            ],
            "text/html": [
              "\n",
              "  <div id=\"df-88059b27-bb19-4b1f-ba25-2031eaba80a8\" class=\"colab-df-container\">\n",
              "    <div>\n",
              "<style scoped>\n",
              "    .dataframe tbody tr th:only-of-type {\n",
              "        vertical-align: middle;\n",
              "    }\n",
              "\n",
              "    .dataframe tbody tr th {\n",
              "        vertical-align: top;\n",
              "    }\n",
              "\n",
              "    .dataframe thead th {\n",
              "        text-align: right;\n",
              "    }\n",
              "</style>\n",
              "<table border=\"1\" class=\"dataframe\">\n",
              "  <thead>\n",
              "    <tr style=\"text-align: right;\">\n",
              "      <th></th>\n",
              "      <th>movieId</th>\n",
              "      <th>title</th>\n",
              "      <th>genres</th>\n",
              "      <th>year</th>\n",
              "      <th>director</th>\n",
              "      <th>actors</th>\n",
              "    </tr>\n",
              "  </thead>\n",
              "  <tbody>\n",
              "    <tr>\n",
              "      <th>0</th>\n",
              "      <td>1</td>\n",
              "      <td>Toy Story</td>\n",
              "      <td>Adventure Animation Children Comedy Fantasy</td>\n",
              "      <td>1995.0</td>\n",
              "      <td>JohnLasseter</td>\n",
              "      <td>TomHanks TimAllen DonRickles</td>\n",
              "    </tr>\n",
              "    <tr>\n",
              "      <th>1</th>\n",
              "      <td>2</td>\n",
              "      <td>Jumanji</td>\n",
              "      <td>Adventure Children Fantasy</td>\n",
              "      <td>1995.0</td>\n",
              "      <td>JoeJohnston</td>\n",
              "      <td>RobinWilliams KirstenDunst BradleyPierce</td>\n",
              "    </tr>\n",
              "    <tr>\n",
              "      <th>2</th>\n",
              "      <td>3</td>\n",
              "      <td>Grumpier Old Men</td>\n",
              "      <td>Comedy Romance</td>\n",
              "      <td>1995.0</td>\n",
              "      <td>HowardDeutch</td>\n",
              "      <td>WalterMatthau JackLemmon Ann-Margret</td>\n",
              "    </tr>\n",
              "    <tr>\n",
              "      <th>3</th>\n",
              "      <td>4</td>\n",
              "      <td>Waiting to Exhale</td>\n",
              "      <td>Comedy Drama Romance</td>\n",
              "      <td>1995.0</td>\n",
              "      <td>ForestWhitaker</td>\n",
              "      <td>WhitneyHouston AngelaBassett LorettaDevine</td>\n",
              "    </tr>\n",
              "    <tr>\n",
              "      <th>4</th>\n",
              "      <td>5</td>\n",
              "      <td>Father of the Bride Part II</td>\n",
              "      <td>Comedy</td>\n",
              "      <td>1995.0</td>\n",
              "      <td>CharlesShyer</td>\n",
              "      <td>SteveMartin DianeKeaton MartinShort</td>\n",
              "    </tr>\n",
              "    <tr>\n",
              "      <th>...</th>\n",
              "      <td>...</td>\n",
              "      <td>...</td>\n",
              "      <td>...</td>\n",
              "      <td>...</td>\n",
              "      <td>...</td>\n",
              "      <td>...</td>\n",
              "    </tr>\n",
              "    <tr>\n",
              "      <th>87580</th>\n",
              "      <td>292731</td>\n",
              "      <td>The Monroy Affaire</td>\n",
              "      <td>Drama</td>\n",
              "      <td>2022.0</td>\n",
              "      <td>JosuéMéndez</td>\n",
              "      <td>DamiánAlcázar GrapaPaola MaríaZubiri</td>\n",
              "    </tr>\n",
              "    <tr>\n",
              "      <th>87581</th>\n",
              "      <td>292737</td>\n",
              "      <td>Shelter in Solitude</td>\n",
              "      <td>Comedy Drama</td>\n",
              "      <td>2023.0</td>\n",
              "      <td>VibekeMuasya</td>\n",
              "      <td>SiobhanFallonHogan PeterMacon RobertPatrick</td>\n",
              "    </tr>\n",
              "    <tr>\n",
              "      <th>87582</th>\n",
              "      <td>292753</td>\n",
              "      <td>Orca</td>\n",
              "      <td>Drama</td>\n",
              "      <td>2023.0</td>\n",
              "      <td>SaharMosayebi</td>\n",
              "      <td>TaranehAlidoosti MahtabKeramati MasoudKaramati</td>\n",
              "    </tr>\n",
              "    <tr>\n",
              "      <th>87583</th>\n",
              "      <td>292755</td>\n",
              "      <td>The Angry Breed</td>\n",
              "      <td>Drama</td>\n",
              "      <td>1968.0</td>\n",
              "      <td>DavidCommons</td>\n",
              "      <td>JanSterling JamesMacArthur WilliamWindom</td>\n",
              "    </tr>\n",
              "    <tr>\n",
              "      <th>87584</th>\n",
              "      <td>292757</td>\n",
              "      <td>Race to the Summit</td>\n",
              "      <td>Action Adventure Documentary</td>\n",
              "      <td>2023.0</td>\n",
              "      <td>GötzWerner</td>\n",
              "      <td>UeliSteck DaniArnold</td>\n",
              "    </tr>\n",
              "  </tbody>\n",
              "</table>\n",
              "<p>87585 rows × 6 columns</p>\n",
              "</div>\n",
              "    <div class=\"colab-df-buttons\">\n",
              "\n",
              "  <div class=\"colab-df-container\">\n",
              "    <button class=\"colab-df-convert\" onclick=\"convertToInteractive('df-88059b27-bb19-4b1f-ba25-2031eaba80a8')\"\n",
              "            title=\"Convert this dataframe to an interactive table.\"\n",
              "            style=\"display:none;\">\n",
              "\n",
              "  <svg xmlns=\"http://www.w3.org/2000/svg\" height=\"24px\" viewBox=\"0 -960 960 960\">\n",
              "    <path d=\"M120-120v-720h720v720H120Zm60-500h600v-160H180v160Zm220 220h160v-160H400v160Zm0 220h160v-160H400v160ZM180-400h160v-160H180v160Zm440 0h160v-160H620v160ZM180-180h160v-160H180v160Zm440 0h160v-160H620v160Z\"/>\n",
              "  </svg>\n",
              "    </button>\n",
              "\n",
              "  <style>\n",
              "    .colab-df-container {\n",
              "      display:flex;\n",
              "      gap: 12px;\n",
              "    }\n",
              "\n",
              "    .colab-df-convert {\n",
              "      background-color: #E8F0FE;\n",
              "      border: none;\n",
              "      border-radius: 50%;\n",
              "      cursor: pointer;\n",
              "      display: none;\n",
              "      fill: #1967D2;\n",
              "      height: 32px;\n",
              "      padding: 0 0 0 0;\n",
              "      width: 32px;\n",
              "    }\n",
              "\n",
              "    .colab-df-convert:hover {\n",
              "      background-color: #E2EBFA;\n",
              "      box-shadow: 0px 1px 2px rgba(60, 64, 67, 0.3), 0px 1px 3px 1px rgba(60, 64, 67, 0.15);\n",
              "      fill: #174EA6;\n",
              "    }\n",
              "\n",
              "    .colab-df-buttons div {\n",
              "      margin-bottom: 4px;\n",
              "    }\n",
              "\n",
              "    [theme=dark] .colab-df-convert {\n",
              "      background-color: #3B4455;\n",
              "      fill: #D2E3FC;\n",
              "    }\n",
              "\n",
              "    [theme=dark] .colab-df-convert:hover {\n",
              "      background-color: #434B5C;\n",
              "      box-shadow: 0px 1px 3px 1px rgba(0, 0, 0, 0.15);\n",
              "      filter: drop-shadow(0px 1px 2px rgba(0, 0, 0, 0.3));\n",
              "      fill: #FFFFFF;\n",
              "    }\n",
              "  </style>\n",
              "\n",
              "    <script>\n",
              "      const buttonEl =\n",
              "        document.querySelector('#df-88059b27-bb19-4b1f-ba25-2031eaba80a8 button.colab-df-convert');\n",
              "      buttonEl.style.display =\n",
              "        google.colab.kernel.accessAllowed ? 'block' : 'none';\n",
              "\n",
              "      async function convertToInteractive(key) {\n",
              "        const element = document.querySelector('#df-88059b27-bb19-4b1f-ba25-2031eaba80a8');\n",
              "        const dataTable =\n",
              "          await google.colab.kernel.invokeFunction('convertToInteractive',\n",
              "                                                    [key], {});\n",
              "        if (!dataTable) return;\n",
              "\n",
              "        const docLinkHtml = 'Like what you see? Visit the ' +\n",
              "          '<a target=\"_blank\" href=https://colab.research.google.com/notebooks/data_table.ipynb>data table notebook</a>'\n",
              "          + ' to learn more about interactive tables.';\n",
              "        element.innerHTML = '';\n",
              "        dataTable['output_type'] = 'display_data';\n",
              "        await google.colab.output.renderOutput(dataTable, element);\n",
              "        const docLink = document.createElement('div');\n",
              "        docLink.innerHTML = docLinkHtml;\n",
              "        element.appendChild(docLink);\n",
              "      }\n",
              "    </script>\n",
              "  </div>\n",
              "\n",
              "\n",
              "<div id=\"df-782ac48d-55f4-47ad-8cff-62c307b29d59\">\n",
              "  <button class=\"colab-df-quickchart\" onclick=\"quickchart('df-782ac48d-55f4-47ad-8cff-62c307b29d59')\"\n",
              "            title=\"Suggest charts\"\n",
              "            style=\"display:none;\">\n",
              "\n",
              "<svg xmlns=\"http://www.w3.org/2000/svg\" height=\"24px\"viewBox=\"0 0 24 24\"\n",
              "     width=\"24px\">\n",
              "    <g>\n",
              "        <path d=\"M19 3H5c-1.1 0-2 .9-2 2v14c0 1.1.9 2 2 2h14c1.1 0 2-.9 2-2V5c0-1.1-.9-2-2-2zM9 17H7v-7h2v7zm4 0h-2V7h2v10zm4 0h-2v-4h2v4z\"/>\n",
              "    </g>\n",
              "</svg>\n",
              "  </button>\n",
              "\n",
              "<style>\n",
              "  .colab-df-quickchart {\n",
              "      --bg-color: #E8F0FE;\n",
              "      --fill-color: #1967D2;\n",
              "      --hover-bg-color: #E2EBFA;\n",
              "      --hover-fill-color: #174EA6;\n",
              "      --disabled-fill-color: #AAA;\n",
              "      --disabled-bg-color: #DDD;\n",
              "  }\n",
              "\n",
              "  [theme=dark] .colab-df-quickchart {\n",
              "      --bg-color: #3B4455;\n",
              "      --fill-color: #D2E3FC;\n",
              "      --hover-bg-color: #434B5C;\n",
              "      --hover-fill-color: #FFFFFF;\n",
              "      --disabled-bg-color: #3B4455;\n",
              "      --disabled-fill-color: #666;\n",
              "  }\n",
              "\n",
              "  .colab-df-quickchart {\n",
              "    background-color: var(--bg-color);\n",
              "    border: none;\n",
              "    border-radius: 50%;\n",
              "    cursor: pointer;\n",
              "    display: none;\n",
              "    fill: var(--fill-color);\n",
              "    height: 32px;\n",
              "    padding: 0;\n",
              "    width: 32px;\n",
              "  }\n",
              "\n",
              "  .colab-df-quickchart:hover {\n",
              "    background-color: var(--hover-bg-color);\n",
              "    box-shadow: 0 1px 2px rgba(60, 64, 67, 0.3), 0 1px 3px 1px rgba(60, 64, 67, 0.15);\n",
              "    fill: var(--button-hover-fill-color);\n",
              "  }\n",
              "\n",
              "  .colab-df-quickchart-complete:disabled,\n",
              "  .colab-df-quickchart-complete:disabled:hover {\n",
              "    background-color: var(--disabled-bg-color);\n",
              "    fill: var(--disabled-fill-color);\n",
              "    box-shadow: none;\n",
              "  }\n",
              "\n",
              "  .colab-df-spinner {\n",
              "    border: 2px solid var(--fill-color);\n",
              "    border-color: transparent;\n",
              "    border-bottom-color: var(--fill-color);\n",
              "    animation:\n",
              "      spin 1s steps(1) infinite;\n",
              "  }\n",
              "\n",
              "  @keyframes spin {\n",
              "    0% {\n",
              "      border-color: transparent;\n",
              "      border-bottom-color: var(--fill-color);\n",
              "      border-left-color: var(--fill-color);\n",
              "    }\n",
              "    20% {\n",
              "      border-color: transparent;\n",
              "      border-left-color: var(--fill-color);\n",
              "      border-top-color: var(--fill-color);\n",
              "    }\n",
              "    30% {\n",
              "      border-color: transparent;\n",
              "      border-left-color: var(--fill-color);\n",
              "      border-top-color: var(--fill-color);\n",
              "      border-right-color: var(--fill-color);\n",
              "    }\n",
              "    40% {\n",
              "      border-color: transparent;\n",
              "      border-right-color: var(--fill-color);\n",
              "      border-top-color: var(--fill-color);\n",
              "    }\n",
              "    60% {\n",
              "      border-color: transparent;\n",
              "      border-right-color: var(--fill-color);\n",
              "    }\n",
              "    80% {\n",
              "      border-color: transparent;\n",
              "      border-right-color: var(--fill-color);\n",
              "      border-bottom-color: var(--fill-color);\n",
              "    }\n",
              "    90% {\n",
              "      border-color: transparent;\n",
              "      border-bottom-color: var(--fill-color);\n",
              "    }\n",
              "  }\n",
              "</style>\n",
              "\n",
              "  <script>\n",
              "    async function quickchart(key) {\n",
              "      const quickchartButtonEl =\n",
              "        document.querySelector('#' + key + ' button');\n",
              "      quickchartButtonEl.disabled = true;  // To prevent multiple clicks.\n",
              "      quickchartButtonEl.classList.add('colab-df-spinner');\n",
              "      try {\n",
              "        const charts = await google.colab.kernel.invokeFunction(\n",
              "            'suggestCharts', [key], {});\n",
              "      } catch (error) {\n",
              "        console.error('Error during call to suggestCharts:', error);\n",
              "      }\n",
              "      quickchartButtonEl.classList.remove('colab-df-spinner');\n",
              "      quickchartButtonEl.classList.add('colab-df-quickchart-complete');\n",
              "    }\n",
              "    (() => {\n",
              "      let quickchartButtonEl =\n",
              "        document.querySelector('#df-782ac48d-55f4-47ad-8cff-62c307b29d59 button');\n",
              "      quickchartButtonEl.style.display =\n",
              "        google.colab.kernel.accessAllowed ? 'block' : 'none';\n",
              "    })();\n",
              "  </script>\n",
              "</div>\n",
              "\n",
              "  <div id=\"id_0c4febd4-c6aa-4e9f-9cca-29905871b341\">\n",
              "    <style>\n",
              "      .colab-df-generate {\n",
              "        background-color: #E8F0FE;\n",
              "        border: none;\n",
              "        border-radius: 50%;\n",
              "        cursor: pointer;\n",
              "        display: none;\n",
              "        fill: #1967D2;\n",
              "        height: 32px;\n",
              "        padding: 0 0 0 0;\n",
              "        width: 32px;\n",
              "      }\n",
              "\n",
              "      .colab-df-generate:hover {\n",
              "        background-color: #E2EBFA;\n",
              "        box-shadow: 0px 1px 2px rgba(60, 64, 67, 0.3), 0px 1px 3px 1px rgba(60, 64, 67, 0.15);\n",
              "        fill: #174EA6;\n",
              "      }\n",
              "\n",
              "      [theme=dark] .colab-df-generate {\n",
              "        background-color: #3B4455;\n",
              "        fill: #D2E3FC;\n",
              "      }\n",
              "\n",
              "      [theme=dark] .colab-df-generate:hover {\n",
              "        background-color: #434B5C;\n",
              "        box-shadow: 0px 1px 3px 1px rgba(0, 0, 0, 0.15);\n",
              "        filter: drop-shadow(0px 1px 2px rgba(0, 0, 0, 0.3));\n",
              "        fill: #FFFFFF;\n",
              "      }\n",
              "    </style>\n",
              "    <button class=\"colab-df-generate\" onclick=\"generateWithVariable('df_movies')\"\n",
              "            title=\"Generate code using this dataframe.\"\n",
              "            style=\"display:none;\">\n",
              "\n",
              "  <svg xmlns=\"http://www.w3.org/2000/svg\" height=\"24px\"viewBox=\"0 0 24 24\"\n",
              "       width=\"24px\">\n",
              "    <path d=\"M7,19H8.4L18.45,9,17,7.55,7,17.6ZM5,21V16.75L18.45,3.32a2,2,0,0,1,2.83,0l1.4,1.43a1.91,1.91,0,0,1,.58,1.4,1.91,1.91,0,0,1-.58,1.4L9.25,21ZM18.45,9,17,7.55Zm-12,3A5.31,5.31,0,0,0,4.9,8.1,5.31,5.31,0,0,0,1,6.5,5.31,5.31,0,0,0,4.9,4.9,5.31,5.31,0,0,0,6.5,1,5.31,5.31,0,0,0,8.1,4.9,5.31,5.31,0,0,0,12,6.5,5.46,5.46,0,0,0,6.5,12Z\"/>\n",
              "  </svg>\n",
              "    </button>\n",
              "    <script>\n",
              "      (() => {\n",
              "      const buttonEl =\n",
              "        document.querySelector('#id_0c4febd4-c6aa-4e9f-9cca-29905871b341 button.colab-df-generate');\n",
              "      buttonEl.style.display =\n",
              "        google.colab.kernel.accessAllowed ? 'block' : 'none';\n",
              "\n",
              "      buttonEl.onclick = () => {\n",
              "        google.colab.notebook.generateWithVariable('df_movies');\n",
              "      }\n",
              "      })();\n",
              "    </script>\n",
              "  </div>\n",
              "\n",
              "    </div>\n",
              "  </div>\n"
            ],
            "application/vnd.google.colaboratory.intrinsic+json": {
              "type": "dataframe",
              "variable_name": "df_movies",
              "summary": "{\n  \"name\": \"df_movies\",\n  \"rows\": 87585,\n  \"fields\": [\n    {\n      \"column\": \"movieId\",\n      \"properties\": {\n        \"dtype\": \"number\",\n        \"std\": 79013,\n        \"min\": 1,\n        \"max\": 292757,\n        \"num_unique_values\": 87585,\n        \"samples\": [\n          120510,\n          212955,\n          193912\n        ],\n        \"semantic_type\": \"\",\n        \"description\": \"\"\n      }\n    },\n    {\n      \"column\": \"title\",\n      \"properties\": {\n        \"dtype\": \"string\",\n        \"num_unique_values\": 80484,\n        \"samples\": [\n          \"A Quiet Outpost\",\n          \"The New Neighbor\",\n          \"Pauline & Paulette\"\n        ],\n        \"semantic_type\": \"\",\n        \"description\": \"\"\n      }\n    },\n    {\n      \"column\": \"genres\",\n      \"properties\": {\n        \"dtype\": \"category\",\n        \"num_unique_values\": 1798,\n        \"samples\": [\n          \"Adventure Crime\",\n          \"Romance Western\",\n          \"Comedy Sci-Fi War\"\n        ],\n        \"semantic_type\": \"\",\n        \"description\": \"\"\n      }\n    },\n    {\n      \"column\": \"year\",\n      \"properties\": {\n        \"dtype\": \"number\",\n        \"std\": 26.019942836098146,\n        \"min\": 1874.0,\n        \"max\": 2023.0,\n        \"num_unique_values\": 142,\n        \"samples\": [\n          1907.0,\n          1973.0,\n          1918.0\n        ],\n        \"semantic_type\": \"\",\n        \"description\": \"\"\n      }\n    },\n    {\n      \"column\": \"director\",\n      \"properties\": {\n        \"dtype\": \"category\",\n        \"num_unique_values\": 33443,\n        \"samples\": [\n          \"AlexDunn\",\n          \"ArthurDreifuss\",\n          \"TerriFarley-Teruel\"\n        ],\n        \"semantic_type\": \"\",\n        \"description\": \"\"\n      }\n    },\n    {\n      \"column\": \"actors\",\n      \"properties\": {\n        \"dtype\": \"string\",\n        \"num_unique_values\": 77384,\n        \"samples\": [\n          \"EdHelms TarajiP.Henson TerrenceLittleGardenhigh\",\n          \"MaisieWilliams AsaButterfield NinaDobrev\",\n          \"LillianGish WalterMiller ViolaBarry\"\n        ],\n        \"semantic_type\": \"\",\n        \"description\": \"\"\n      }\n    }\n  ]\n}"
            }
          },
          "metadata": {},
          "execution_count": 18
        }
      ]
    },
    {
      "cell_type": "markdown",
      "source": [
        "# 크롤링한 데이터 csv 형식으로 Google Drive에 저장"
      ],
      "metadata": {
        "id": "qooj_dcg_CPB"
      }
    },
    {
      "cell_type": "code",
      "source": [
        "# Google Drive 저장 경로 설정\n",
        "save_folder = 'movies_processed_data'\n",
        "save_file_name = f'movies_processed_{dataset_volume}.csv'\n",
        "\n",
        "# 폴더 경로 생성\n",
        "full_save_path = f\"{mount_directory}/{save_folder}\"\n",
        "\n",
        "# 폴더가 없는 경우 생성\n",
        "if not os.path.exists(full_save_path):\n",
        "    os.makedirs(full_save_path)\n",
        "    print(f\"폴더를 생성했습니다: {full_save_path}\")\n",
        "\n",
        "# DataFrame을 CSV로 저장\n",
        "df_movies.to_csv(f\"{full_save_path}/{save_file_name}\", index=False, encoding='utf-8')\n",
        "\n",
        "print(f\"CSV 파일이 저장되었습니다: {full_save_path}/{save_file_name}\")"
      ],
      "metadata": {
        "colab": {
          "base_uri": "https://localhost:8080/"
        },
        "id": "uM2pEA7U-QcF",
        "outputId": "7e7cc454-cbdc-4581-dbbe-1173094ee439"
      },
      "execution_count": 19,
      "outputs": [
        {
          "output_type": "stream",
          "name": "stdout",
          "text": [
            "CSV 파일이 저장되었습니다: drive/MyDrive/movies_processed_data/movies_processed_32m.csv\n"
          ]
        }
      ]
    }
  ]
}